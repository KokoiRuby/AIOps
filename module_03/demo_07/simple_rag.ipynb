{
 "cells": [
  {
   "cell_type": "code",
   "execution_count": 8,
   "metadata": {},
   "outputs": [
    {
     "name": "stdout",
     "output_type": "stream",
     "text": [
      "Looking in indexes: https://mirrors.aliyun.com/pypi/simple/\n",
      "Collecting chromadb==0.5.3\n",
      "  Using cached https://mirrors.aliyun.com/pypi/packages/3e/c9/d55602e07bb839c578f4698b92db7ea88c1aa92f69d4c86076c1597e451b/chromadb-0.5.3-py3-none-any.whl (559 kB)\n",
      "Collecting build>=1.0.3 (from chromadb==0.5.3)\n",
      "  Using cached https://mirrors.aliyun.com/pypi/packages/91/fd/e4bda6228637ecae5732162b5ac2a5a822e2ba8e546eb4997cde51b231a3/build-1.2.2-py3-none-any.whl (22 kB)\n",
      "Requirement already satisfied: requests>=2.28 in c:\\users\\hiron\\appdata\\local\\programs\\python\\python312\\lib\\site-packages (from chromadb==0.5.3) (2.32.3)\n",
      "Requirement already satisfied: pydantic>=1.9 in c:\\users\\hiron\\appdata\\local\\programs\\python\\python312\\lib\\site-packages (from chromadb==0.5.3) (2.9.2)\n",
      "Collecting chroma-hnswlib==0.7.3 (from chromadb==0.5.3)\n",
      "  Using cached https://mirrors.aliyun.com/pypi/packages/c0/59/1224cbae62c7b84c84088cdf6c106b9b2b893783c000d22c442a1672bc75/chroma-hnswlib-0.7.3.tar.gz (31 kB)\n",
      "  Installing build dependencies: started\n",
      "  Installing build dependencies: finished with status 'done'\n",
      "  Getting requirements to build wheel: started\n",
      "  Getting requirements to build wheel: finished with status 'done'\n",
      "  Preparing metadata (pyproject.toml): started\n",
      "  Preparing metadata (pyproject.toml): finished with status 'done'\n",
      "Collecting fastapi>=0.95.2 (from chromadb==0.5.3)\n",
      "  Using cached https://mirrors.aliyun.com/pypi/packages/06/ab/a1f7eed031aeb1c406a6e9d45ca04bff401c8a25a30dd0e4fd2caae767c3/fastapi-0.115.0-py3-none-any.whl (94 kB)\n",
      "Collecting uvicorn>=0.18.3 (from uvicorn[standard]>=0.18.3->chromadb==0.5.3)\n",
      "  Using cached https://mirrors.aliyun.com/pypi/packages/f5/8e/cdc7d6263db313030e4c257dd5ba3909ebc4e4fb53ad62d5f09b1a2f5458/uvicorn-0.30.6-py3-none-any.whl (62 kB)\n",
      "Requirement already satisfied: numpy<2.0.0,>=1.22.5 in c:\\users\\hiron\\appdata\\local\\programs\\python\\python312\\lib\\site-packages (from chromadb==0.5.3) (1.26.4)\n",
      "Collecting posthog>=2.4.0 (from chromadb==0.5.3)\n",
      "  Using cached https://mirrors.aliyun.com/pypi/packages/c4/3e/53cf7e3ead6c0a5f4064fa4e697a2985bace0aae0ed428983774213a3485/posthog-3.6.6-py2.py3-none-any.whl (54 kB)\n",
      "Requirement already satisfied: typing-extensions>=4.5.0 in c:\\users\\hiron\\appdata\\local\\programs\\python\\python312\\lib\\site-packages (from chromadb==0.5.3) (4.12.2)\n",
      "Collecting onnxruntime>=1.14.1 (from chromadb==0.5.3)\n",
      "  Using cached https://mirrors.aliyun.com/pypi/packages/44/c0/59768846533786a82cafb38d8d2f900ad666bc91f0ae634774d286fa3c47/onnxruntime-1.19.2-cp312-cp312-win_amd64.whl (11.1 MB)\n",
      "Collecting opentelemetry-api>=1.2.0 (from chromadb==0.5.3)\n",
      "  Using cached https://mirrors.aliyun.com/pypi/packages/fb/1f/737dcdbc9fea2fa96c1b392ae47275165a7c641663fbb08a8d252968eed2/opentelemetry_api-1.27.0-py3-none-any.whl (63 kB)\n",
      "Collecting opentelemetry-exporter-otlp-proto-grpc>=1.2.0 (from chromadb==0.5.3)\n",
      "  Using cached https://mirrors.aliyun.com/pypi/packages/8d/80/32217460c2c64c0568cea38410124ff680a9b65f6732867bbf857c4d8626/opentelemetry_exporter_otlp_proto_grpc-1.27.0-py3-none-any.whl (18 kB)\n",
      "Collecting opentelemetry-instrumentation-fastapi>=0.41b0 (from chromadb==0.5.3)\n",
      "  Using cached https://mirrors.aliyun.com/pypi/packages/ee/50/745ab075a3041b7a5f29a579d2c28eaad54f64b4589d8f9fd364c62cf0f3/opentelemetry_instrumentation_fastapi-0.48b0-py3-none-any.whl (11 kB)\n",
      "Collecting opentelemetry-sdk>=1.2.0 (from chromadb==0.5.3)\n",
      "  Using cached https://mirrors.aliyun.com/pypi/packages/c1/bd/a6602e71e315055d63b2ff07172bd2d012b4cba2d4e00735d74ba42fc4d6/opentelemetry_sdk-1.27.0-py3-none-any.whl (110 kB)\n",
      "Collecting tokenizers>=0.13.2 (from chromadb==0.5.3)\n",
      "  Using cached https://mirrors.aliyun.com/pypi/packages/a5/45/9c19187645401ec30884379ada74aa6e71fb5eaf20485a82ea37a0fd3659/tokenizers-0.20.0-cp312-none-win_amd64.whl (2.3 MB)\n",
      "Collecting pypika>=0.48.9 (from chromadb==0.5.3)\n",
      "  Using cached PyPika-0.48.9-py2.py3-none-any.whl\n",
      "Requirement already satisfied: tqdm>=4.65.0 in c:\\users\\hiron\\appdata\\local\\programs\\python\\python312\\lib\\site-packages (from chromadb==0.5.3) (4.66.5)\n",
      "Collecting overrides>=7.3.1 (from chromadb==0.5.3)\n",
      "  Using cached https://mirrors.aliyun.com/pypi/packages/2c/ab/fc8290c6a4c722e5514d80f62b2dc4c4df1a68a41d1364e625c35990fcf3/overrides-7.7.0-py3-none-any.whl (17 kB)\n",
      "Collecting importlib-resources (from chromadb==0.5.3)\n",
      "  Using cached https://mirrors.aliyun.com/pypi/packages/e1/6a/4604f9ae2fa62ef47b9de2fa5ad599589d28c9fd1d335f32759813dfa91e/importlib_resources-6.4.5-py3-none-any.whl (36 kB)\n",
      "Collecting grpcio>=1.58.0 (from chromadb==0.5.3)\n",
      "  Using cached https://mirrors.aliyun.com/pypi/packages/66/2b/a6e68d7ea6f4fbc31cce20e354d6cef484da0a9891ee6a3eaf3aa9659d01/grpcio-1.66.1-cp312-cp312-win_amd64.whl (4.3 MB)\n",
      "Collecting bcrypt>=4.0.1 (from chromadb==0.5.3)\n",
      "  Using cached https://mirrors.aliyun.com/pypi/packages/1c/2a/c74052e54162ec639266d91539cca7cbf3d1d3b8b36afbfeaee0ea6a1702/bcrypt-4.2.0-cp39-abi3-win_amd64.whl (151 kB)\n",
      "Collecting typer>=0.9.0 (from chromadb==0.5.3)\n",
      "  Using cached https://mirrors.aliyun.com/pypi/packages/a8/2b/886d13e742e514f704c33c4caa7df0f3b89e5a25ef8db02aa9ca3d9535d5/typer-0.12.5-py3-none-any.whl (47 kB)\n",
      "Collecting kubernetes>=28.1.0 (from chromadb==0.5.3)\n",
      "  Using cached https://mirrors.aliyun.com/pypi/packages/fb/a8/17f5e28cecdbd6d48127c22abdb794740803491f422a11905c4569d8e139/kubernetes-31.0.0-py2.py3-none-any.whl (1.9 MB)\n",
      "Requirement already satisfied: tenacity>=8.2.3 in c:\\users\\hiron\\appdata\\local\\programs\\python\\python312\\lib\\site-packages (from chromadb==0.5.3) (8.5.0)\n",
      "Requirement already satisfied: PyYAML>=6.0.0 in c:\\users\\hiron\\appdata\\local\\programs\\python\\python312\\lib\\site-packages (from chromadb==0.5.3) (6.0.2)\n",
      "Collecting mmh3>=4.0.1 (from chromadb==0.5.3)\n",
      "  Using cached https://mirrors.aliyun.com/pypi/packages/86/6b/24c9c618993a5d5612a12c156aa30b6a58e9123d9798642ed8d9608ef6f2/mmh3-5.0.0-cp312-cp312-win_amd64.whl (35 kB)\n",
      "Requirement already satisfied: orjson>=3.9.12 in c:\\users\\hiron\\appdata\\local\\programs\\python\\python312\\lib\\site-packages (from chromadb==0.5.3) (3.10.7)\n",
      "Requirement already satisfied: httpx>=0.27.0 in c:\\users\\hiron\\appdata\\local\\programs\\python\\python312\\lib\\site-packages (from chromadb==0.5.3) (0.27.2)\n",
      "Requirement already satisfied: packaging>=19.1 in c:\\users\\hiron\\appdata\\local\\programs\\python\\python312\\lib\\site-packages (from build>=1.0.3->chromadb==0.5.3) (23.2)\n",
      "Collecting pyproject_hooks (from build>=1.0.3->chromadb==0.5.3)\n",
      "  Using cached https://mirrors.aliyun.com/pypi/packages/ae/f3/431b9d5fe7d14af7a32340792ef43b8a714e7726f1d7b69cc4e8e7a3f1d7/pyproject_hooks-1.1.0-py3-none-any.whl (9.2 kB)\n",
      "Requirement already satisfied: colorama in c:\\users\\hiron\\appdata\\local\\programs\\python\\python312\\lib\\site-packages (from build>=1.0.3->chromadb==0.5.3) (0.4.6)\n",
      "Collecting starlette<0.39.0,>=0.37.2 (from fastapi>=0.95.2->chromadb==0.5.3)\n",
      "  Using cached https://mirrors.aliyun.com/pypi/packages/90/1a/8853ba4cea1ec99535ac9be5795a50ca92cddd04d57bbaa56e866cb7548c/starlette-0.38.5-py3-none-any.whl (71 kB)\n",
      "Requirement already satisfied: anyio in c:\\users\\hiron\\appdata\\local\\programs\\python\\python312\\lib\\site-packages (from httpx>=0.27.0->chromadb==0.5.3) (4.5.0)\n",
      "Requirement already satisfied: certifi in c:\\users\\hiron\\appdata\\local\\programs\\python\\python312\\lib\\site-packages (from httpx>=0.27.0->chromadb==0.5.3) (2024.8.30)\n",
      "Requirement already satisfied: httpcore==1.* in c:\\users\\hiron\\appdata\\local\\programs\\python\\python312\\lib\\site-packages (from httpx>=0.27.0->chromadb==0.5.3) (1.0.5)\n",
      "Requirement already satisfied: idna in c:\\users\\hiron\\appdata\\local\\programs\\python\\python312\\lib\\site-packages (from httpx>=0.27.0->chromadb==0.5.3) (3.10)\n",
      "Requirement already satisfied: sniffio in c:\\users\\hiron\\appdata\\local\\programs\\python\\python312\\lib\\site-packages (from httpx>=0.27.0->chromadb==0.5.3) (1.3.1)\n",
      "Requirement already satisfied: h11<0.15,>=0.13 in c:\\users\\hiron\\appdata\\local\\programs\\python\\python312\\lib\\site-packages (from httpcore==1.*->httpx>=0.27.0->chromadb==0.5.3) (0.14.0)\n",
      "Requirement already satisfied: six>=1.9.0 in c:\\users\\hiron\\appdata\\roaming\\python\\python312\\site-packages (from kubernetes>=28.1.0->chromadb==0.5.3) (1.16.0)\n",
      "Requirement already satisfied: python-dateutil>=2.5.3 in c:\\users\\hiron\\appdata\\roaming\\python\\python312\\site-packages (from kubernetes>=28.1.0->chromadb==0.5.3) (2.8.2)\n",
      "Collecting google-auth>=1.0.1 (from kubernetes>=28.1.0->chromadb==0.5.3)\n",
      "  Using cached https://mirrors.aliyun.com/pypi/packages/27/1f/3a72917afcb0d5cd842cbccb81bf7a8a7b45b4c66d8dc4556ccb3b016bfc/google_auth-2.35.0-py2.py3-none-any.whl (208 kB)\n",
      "Collecting websocket-client!=0.40.0,!=0.41.*,!=0.42.*,>=0.32.0 (from kubernetes>=28.1.0->chromadb==0.5.3)\n",
      "  Using cached https://mirrors.aliyun.com/pypi/packages/5a/84/44687a29792a70e111c5c477230a72c4b957d88d16141199bf9acb7537a3/websocket_client-1.8.0-py3-none-any.whl (58 kB)\n",
      "Collecting requests-oauthlib (from kubernetes>=28.1.0->chromadb==0.5.3)\n",
      "  Using cached https://mirrors.aliyun.com/pypi/packages/3b/5d/63d4ae3b9daea098d5d6f5da83984853c1bbacd5dc826764b249fe119d24/requests_oauthlib-2.0.0-py2.py3-none-any.whl (24 kB)\n",
      "Collecting oauthlib>=3.2.2 (from kubernetes>=28.1.0->chromadb==0.5.3)\n",
      "  Using cached https://mirrors.aliyun.com/pypi/packages/7e/80/cab10959dc1faead58dc8384a781dfbf93cb4d33d50988f7a69f1b7c9bbe/oauthlib-3.2.2-py3-none-any.whl (151 kB)\n",
      "Requirement already satisfied: urllib3>=1.24.2 in c:\\users\\hiron\\appdata\\local\\programs\\python\\python312\\lib\\site-packages (from kubernetes>=28.1.0->chromadb==0.5.3) (2.2.3)\n",
      "Collecting durationpy>=0.7 (from kubernetes>=28.1.0->chromadb==0.5.3)\n",
      "  Using cached durationpy-0.7-py3-none-any.whl\n",
      "Collecting coloredlogs (from onnxruntime>=1.14.1->chromadb==0.5.3)\n",
      "  Using cached https://mirrors.aliyun.com/pypi/packages/a7/06/3d6badcf13db419e25b07041d9c7b4a2c331d3f4e7134445ec5df57714cd/coloredlogs-15.0.1-py2.py3-none-any.whl (46 kB)\n",
      "Collecting flatbuffers (from onnxruntime>=1.14.1->chromadb==0.5.3)\n",
      "  Downloading https://mirrors.aliyun.com/pypi/packages/41/f0/7e988a019bc54b2dbd0ad4182ef2d53488bb02e58694cd79d61369e85900/flatbuffers-24.3.25-py2.py3-none-any.whl (26 kB)\n",
      "Collecting protobuf (from onnxruntime>=1.14.1->chromadb==0.5.3)\n",
      "  Using cached https://mirrors.aliyun.com/pypi/packages/7d/46/3fdf7462160135aee6a530f1ec66665b5b4132fa2e1002ab971bc6ec2589/protobuf-5.28.2-cp310-abi3-win_amd64.whl (431 kB)\n",
      "Collecting sympy (from onnxruntime>=1.14.1->chromadb==0.5.3)\n",
      "  Using cached https://mirrors.aliyun.com/pypi/packages/99/ff/c87e0622b1dadea79d2fb0b25ade9ed98954c9033722eb707053d310d4f3/sympy-1.13.3-py3-none-any.whl (6.2 MB)\n",
      "Collecting deprecated>=1.2.6 (from opentelemetry-api>=1.2.0->chromadb==0.5.3)\n",
      "  Using cached https://mirrors.aliyun.com/pypi/packages/20/8d/778b7d51b981a96554f29136cd59ca7880bf58094338085bcf2a979a0e6a/Deprecated-1.2.14-py2.py3-none-any.whl (9.6 kB)\n",
      "Collecting importlib-metadata<=8.4.0,>=6.0 (from opentelemetry-api>=1.2.0->chromadb==0.5.3)\n",
      "  Using cached https://mirrors.aliyun.com/pypi/packages/c0/14/362d31bf1076b21e1bcdcb0dc61944822ff263937b804a79231df2774d28/importlib_metadata-8.4.0-py3-none-any.whl (26 kB)\n",
      "Collecting googleapis-common-protos~=1.52 (from opentelemetry-exporter-otlp-proto-grpc>=1.2.0->chromadb==0.5.3)\n",
      "  Using cached https://mirrors.aliyun.com/pypi/packages/ec/08/49bfe7cf737952cc1a9c43e80cc258ed45dad7f183c5b8276fc94cb3862d/googleapis_common_protos-1.65.0-py2.py3-none-any.whl (220 kB)\n",
      "Collecting opentelemetry-exporter-otlp-proto-common==1.27.0 (from opentelemetry-exporter-otlp-proto-grpc>=1.2.0->chromadb==0.5.3)\n",
      "  Using cached https://mirrors.aliyun.com/pypi/packages/41/27/4610ab3d9bb3cde4309b6505f98b3aabca04a26aa480aa18cede23149837/opentelemetry_exporter_otlp_proto_common-1.27.0-py3-none-any.whl (17 kB)\n",
      "Collecting opentelemetry-proto==1.27.0 (from opentelemetry-exporter-otlp-proto-grpc>=1.2.0->chromadb==0.5.3)\n",
      "  Using cached https://mirrors.aliyun.com/pypi/packages/94/56/3d2d826834209b19a5141eed717f7922150224d1a982385d19a9444cbf8d/opentelemetry_proto-1.27.0-py3-none-any.whl (52 kB)\n",
      "Collecting protobuf (from onnxruntime>=1.14.1->chromadb==0.5.3)\n",
      "  Using cached https://mirrors.aliyun.com/pypi/packages/a7/ad/bf3f358e90b7e70bf7fb520702cb15307ef268262292d3bdb16ad8ebc815/protobuf-4.25.5-cp310-abi3-win_amd64.whl (413 kB)\n",
      "Collecting opentelemetry-instrumentation-asgi==0.48b0 (from opentelemetry-instrumentation-fastapi>=0.41b0->chromadb==0.5.3)\n",
      "  Using cached https://mirrors.aliyun.com/pypi/packages/db/74/a0e0d38622856597dd8e630f2bd793760485eb165708e11b8be1696bbb5a/opentelemetry_instrumentation_asgi-0.48b0-py3-none-any.whl (15 kB)\n",
      "Collecting opentelemetry-instrumentation==0.48b0 (from opentelemetry-instrumentation-fastapi>=0.41b0->chromadb==0.5.3)\n",
      "  Using cached https://mirrors.aliyun.com/pypi/packages/0a/7f/405c41d4f359121376c9d5117dcf68149b8122d3f6c718996d037bd4d800/opentelemetry_instrumentation-0.48b0-py3-none-any.whl (29 kB)\n",
      "Collecting opentelemetry-semantic-conventions==0.48b0 (from opentelemetry-instrumentation-fastapi>=0.41b0->chromadb==0.5.3)\n",
      "  Using cached https://mirrors.aliyun.com/pypi/packages/b7/7a/4f0063dbb0b6c971568291a8bc19a4ca70d3c185db2d956230dd67429dfc/opentelemetry_semantic_conventions-0.48b0-py3-none-any.whl (149 kB)\n",
      "Collecting opentelemetry-util-http==0.48b0 (from opentelemetry-instrumentation-fastapi>=0.41b0->chromadb==0.5.3)\n",
      "  Using cached https://mirrors.aliyun.com/pypi/packages/ad/2e/36097c0a4d0115b8c7e377c90bab7783ac183bc5cb4071308f8959454311/opentelemetry_util_http-0.48b0-py3-none-any.whl (6.9 kB)\n",
      "Collecting setuptools>=16.0 (from opentelemetry-instrumentation==0.48b0->opentelemetry-instrumentation-fastapi>=0.41b0->chromadb==0.5.3)\n",
      "  Using cached https://mirrors.aliyun.com/pypi/packages/ff/ae/f19306b5a221f6a436d8f2238d5b80925004093fa3edea59835b514d9057/setuptools-75.1.0-py3-none-any.whl (1.2 MB)\n",
      "Collecting wrapt<2.0.0,>=1.0.0 (from opentelemetry-instrumentation==0.48b0->opentelemetry-instrumentation-fastapi>=0.41b0->chromadb==0.5.3)\n",
      "  Using cached https://mirrors.aliyun.com/pypi/packages/5c/cc/8297f9658506b224aa4bd71906447dea6bb0ba629861a758c28f67428b91/wrapt-1.16.0-cp312-cp312-win_amd64.whl (37 kB)\n",
      "Collecting asgiref~=3.0 (from opentelemetry-instrumentation-asgi==0.48b0->opentelemetry-instrumentation-fastapi>=0.41b0->chromadb==0.5.3)\n",
      "  Using cached https://mirrors.aliyun.com/pypi/packages/39/e3/893e8757be2612e6c266d9bb58ad2e3651524b5b40cf56761e985a28b13e/asgiref-3.8.1-py3-none-any.whl (23 kB)\n",
      "Collecting monotonic>=1.5 (from posthog>=2.4.0->chromadb==0.5.3)\n",
      "  Using cached https://mirrors.aliyun.com/pypi/packages/9a/67/7e8406a29b6c45be7af7740456f7f37025f0506ae2e05fb9009a53946860/monotonic-1.6-py2.py3-none-any.whl (8.2 kB)\n",
      "Collecting backoff>=1.10.0 (from posthog>=2.4.0->chromadb==0.5.3)\n",
      "  Downloading https://mirrors.aliyun.com/pypi/packages/df/73/b6e24bd22e6720ca8ee9a85a0c4a2971af8497d8f3193fa05390cbd46e09/backoff-2.2.1-py3-none-any.whl (15 kB)\n",
      "Requirement already satisfied: annotated-types>=0.6.0 in c:\\users\\hiron\\appdata\\local\\programs\\python\\python312\\lib\\site-packages (from pydantic>=1.9->chromadb==0.5.3) (0.7.0)\n",
      "Requirement already satisfied: pydantic-core==2.23.4 in c:\\users\\hiron\\appdata\\local\\programs\\python\\python312\\lib\\site-packages (from pydantic>=1.9->chromadb==0.5.3) (2.23.4)\n",
      "Requirement already satisfied: charset-normalizer<4,>=2 in c:\\users\\hiron\\appdata\\local\\programs\\python\\python312\\lib\\site-packages (from requests>=2.28->chromadb==0.5.3) (3.3.2)\n",
      "Collecting huggingface-hub<1.0,>=0.16.4 (from tokenizers>=0.13.2->chromadb==0.5.3)\n",
      "  Using cached https://mirrors.aliyun.com/pypi/packages/d5/ce/1f8e61cd63175cc2e79233b954b1c4e85363c788fb3a1fa23c87a25c9b81/huggingface_hub-0.25.0-py3-none-any.whl (436 kB)\n",
      "Collecting click>=8.0.0 (from typer>=0.9.0->chromadb==0.5.3)\n",
      "  Using cached https://mirrors.aliyun.com/pypi/packages/00/2e/d53fa4befbf2cfa713304affc7ca780ce4fc1fd8710527771b58311a3229/click-8.1.7-py3-none-any.whl (97 kB)\n",
      "Collecting shellingham>=1.3.0 (from typer>=0.9.0->chromadb==0.5.3)\n",
      "  Using cached https://mirrors.aliyun.com/pypi/packages/e0/f9/0595336914c5619e5f28a1fb793285925a8cd4b432c9da0a987836c7f822/shellingham-1.5.4-py2.py3-none-any.whl (9.8 kB)\n",
      "Collecting rich>=10.11.0 (from typer>=0.9.0->chromadb==0.5.3)\n",
      "  Using cached https://mirrors.aliyun.com/pypi/packages/b0/11/dadb85e2bd6b1f1ae56669c3e1f0410797f9605d752d68fb47b77f525b31/rich-13.8.1-py3-none-any.whl (241 kB)\n",
      "Collecting httptools>=0.5.0 (from uvicorn[standard]>=0.18.3->chromadb==0.5.3)\n",
      "  Using cached https://mirrors.aliyun.com/pypi/packages/d3/97/60860e9ee87a7d4712b98f7e1411730520053b9d69e9e42b0b9751809c17/httptools-0.6.1-cp312-cp312-win_amd64.whl (55 kB)\n",
      "Requirement already satisfied: python-dotenv>=0.13 in c:\\users\\hiron\\appdata\\local\\programs\\python\\python312\\lib\\site-packages (from uvicorn[standard]>=0.18.3->chromadb==0.5.3) (1.0.1)\n",
      "Collecting watchfiles>=0.13 (from uvicorn[standard]>=0.18.3->chromadb==0.5.3)\n",
      "  Using cached https://mirrors.aliyun.com/pypi/packages/b4/0b/32cde5bc2ebd9f351be326837c61bdeb05ad652b793f25c91cac0b48a60b/watchfiles-0.24.0-cp312-none-win_amd64.whl (277 kB)\n",
      "Collecting websockets>=10.4 (from uvicorn[standard]>=0.18.3->chromadb==0.5.3)\n",
      "  Using cached https://mirrors.aliyun.com/pypi/packages/16/2e/e47692f569e1be2e66c1dbc5e85ea4d2cc93b80027fbafa28ae8b0dee52c/websockets-13.0.1-cp312-cp312-win_amd64.whl (152 kB)\n",
      "Collecting cachetools<6.0,>=2.0.0 (from google-auth>=1.0.1->kubernetes>=28.1.0->chromadb==0.5.3)\n",
      "  Using cached https://mirrors.aliyun.com/pypi/packages/a4/07/14f8ad37f2d12a5ce41206c21820d8cb6561b728e51fad4530dff0552a67/cachetools-5.5.0-py3-none-any.whl (9.5 kB)\n",
      "Collecting pyasn1-modules>=0.2.1 (from google-auth>=1.0.1->kubernetes>=28.1.0->chromadb==0.5.3)\n",
      "  Using cached https://mirrors.aliyun.com/pypi/packages/77/89/bc88a6711935ba795a679ea6ebee07e128050d6382eaa35a0a47c8032bdc/pyasn1_modules-0.4.1-py3-none-any.whl (181 kB)\n",
      "Collecting rsa<5,>=3.1.4 (from google-auth>=1.0.1->kubernetes>=28.1.0->chromadb==0.5.3)\n",
      "  Using cached https://mirrors.aliyun.com/pypi/packages/49/97/fa78e3d2f65c02c8e1268b9aba606569fe97f6c8f7c2d74394553347c145/rsa-4.9-py3-none-any.whl (34 kB)\n",
      "Collecting filelock (from huggingface-hub<1.0,>=0.16.4->tokenizers>=0.13.2->chromadb==0.5.3)\n",
      "  Using cached https://mirrors.aliyun.com/pypi/packages/b9/f8/feced7779d755758a52d1f6635d990b8d98dc0a29fa568bbe0625f18fdf3/filelock-3.16.1-py3-none-any.whl (16 kB)\n",
      "Collecting fsspec>=2023.5.0 (from huggingface-hub<1.0,>=0.16.4->tokenizers>=0.13.2->chromadb==0.5.3)\n",
      "  Using cached https://mirrors.aliyun.com/pypi/packages/1d/a0/6aaea0c2fbea2f89bfd5db25fb1e3481896a423002ebe4e55288907a97a3/fsspec-2024.9.0-py3-none-any.whl (179 kB)\n",
      "Collecting zipp>=0.5 (from importlib-metadata<=8.4.0,>=6.0->opentelemetry-api>=1.2.0->chromadb==0.5.3)\n",
      "  Using cached https://mirrors.aliyun.com/pypi/packages/62/8b/5ba542fa83c90e09eac972fc9baca7a88e7e7ca4b221a89251954019308b/zipp-3.20.2-py3-none-any.whl (9.2 kB)\n",
      "Collecting markdown-it-py>=2.2.0 (from rich>=10.11.0->typer>=0.9.0->chromadb==0.5.3)\n",
      "  Using cached https://mirrors.aliyun.com/pypi/packages/42/d7/1ec15b46af6af88f19b8e5ffea08fa375d433c998b8a7639e76935c14f1f/markdown_it_py-3.0.0-py3-none-any.whl (87 kB)\n",
      "Requirement already satisfied: pygments<3.0.0,>=2.13.0 in c:\\users\\hiron\\appdata\\roaming\\python\\python312\\site-packages (from rich>=10.11.0->typer>=0.9.0->chromadb==0.5.3) (2.16.1)\n",
      "Collecting humanfriendly>=9.1 (from coloredlogs->onnxruntime>=1.14.1->chromadb==0.5.3)\n",
      "  Using cached https://mirrors.aliyun.com/pypi/packages/f0/0f/310fb31e39e2d734ccaa2c0fb981ee41f7bd5056ce9bc29b2248bd569169/humanfriendly-10.0-py2.py3-none-any.whl (86 kB)\n",
      "Collecting mpmath<1.4,>=1.1.0 (from sympy->onnxruntime>=1.14.1->chromadb==0.5.3)\n",
      "  Using cached https://mirrors.aliyun.com/pypi/packages/43/e3/7d92a15f894aa0c9c4b49b8ee9ac9850d6e63b03c9c32c0367a13ae62209/mpmath-1.3.0-py3-none-any.whl (536 kB)\n",
      "Collecting pyreadline3 (from humanfriendly>=9.1->coloredlogs->onnxruntime>=1.14.1->chromadb==0.5.3)\n",
      "  Downloading https://mirrors.aliyun.com/pypi/packages/5a/dc/491b7661614ab97483abf2056be1deee4dc2490ecbf7bff9ab5cdbac86e1/pyreadline3-3.5.4-py3-none-any.whl (83 kB)\n",
      "Collecting mdurl~=0.1 (from markdown-it-py>=2.2.0->rich>=10.11.0->typer>=0.9.0->chromadb==0.5.3)\n",
      "  Using cached https://mirrors.aliyun.com/pypi/packages/b3/38/89ba8ad64ae25be8de66a6d463314cf1eb366222074cfda9ee839c56a4b4/mdurl-0.1.2-py3-none-any.whl (10.0 kB)\n",
      "Collecting pyasn1<0.7.0,>=0.4.6 (from pyasn1-modules>=0.2.1->google-auth>=1.0.1->kubernetes>=28.1.0->chromadb==0.5.3)\n",
      "  Using cached https://mirrors.aliyun.com/pypi/packages/c8/f1/d6a797abb14f6283c0ddff96bbdd46937f64122b8c925cab503dd37f8214/pyasn1-0.6.1-py3-none-any.whl (83 kB)\n",
      "Building wheels for collected packages: chroma-hnswlib\n",
      "  Building wheel for chroma-hnswlib (pyproject.toml): started\n",
      "  Building wheel for chroma-hnswlib (pyproject.toml): finished with status 'done'\n",
      "  Created wheel for chroma-hnswlib: filename=chroma_hnswlib-0.7.3-cp312-cp312-win_amd64.whl size=155012 sha256=8b84c6ec1cd6717da31297ec5de8e007559d2eb5d648d99f68ba2f0f0e9a1604\n",
      "  Stored in directory: c:\\users\\hiron\\appdata\\local\\pip\\cache\\wheels\\86\\0d\\4e\\5647e14b68a18b53292807d3442f01d4fd06667566e7cd58d6\n",
      "Successfully built chroma-hnswlib\n",
      "Installing collected packages: pypika, mpmath, monotonic, flatbuffers, durationpy, zipp, wrapt, websockets, websocket-client, sympy, shellingham, setuptools, pyreadline3, pyproject_hooks, pyasn1, protobuf, overrides, opentelemetry-util-http, oauthlib, mmh3, mdurl, importlib-resources, httptools, grpcio, fsspec, filelock, click, chroma-hnswlib, cachetools, bcrypt, backoff, asgiref, watchfiles, uvicorn, starlette, rsa, requests-oauthlib, pyasn1-modules, posthog, opentelemetry-proto, markdown-it-py, importlib-metadata, humanfriendly, huggingface-hub, googleapis-common-protos, deprecated, build, tokenizers, rich, opentelemetry-exporter-otlp-proto-common, opentelemetry-api, google-auth, fastapi, coloredlogs, typer, opentelemetry-semantic-conventions, opentelemetry-instrumentation, onnxruntime, kubernetes, opentelemetry-sdk, opentelemetry-instrumentation-asgi, opentelemetry-instrumentation-fastapi, opentelemetry-exporter-otlp-proto-grpc, chromadb\n",
      "Successfully installed asgiref-3.8.1 backoff-2.2.1 bcrypt-4.2.0 build-1.2.2 cachetools-5.5.0 chroma-hnswlib-0.7.3 chromadb-0.5.3 click-8.1.7 coloredlogs-15.0.1 deprecated-1.2.14 durationpy-0.7 fastapi-0.115.0 filelock-3.16.1 flatbuffers-24.3.25 fsspec-2024.9.0 google-auth-2.35.0 googleapis-common-protos-1.65.0 grpcio-1.66.1 httptools-0.6.1 huggingface-hub-0.25.0 humanfriendly-10.0 importlib-metadata-8.4.0 importlib-resources-6.4.5 kubernetes-31.0.0 markdown-it-py-3.0.0 mdurl-0.1.2 mmh3-5.0.0 monotonic-1.6 mpmath-1.3.0 oauthlib-3.2.2 onnxruntime-1.19.2 opentelemetry-api-1.27.0 opentelemetry-exporter-otlp-proto-common-1.27.0 opentelemetry-exporter-otlp-proto-grpc-1.27.0 opentelemetry-instrumentation-0.48b0 opentelemetry-instrumentation-asgi-0.48b0 opentelemetry-instrumentation-fastapi-0.48b0 opentelemetry-proto-1.27.0 opentelemetry-sdk-1.27.0 opentelemetry-semantic-conventions-0.48b0 opentelemetry-util-http-0.48b0 overrides-7.7.0 posthog-3.6.6 protobuf-4.25.5 pyasn1-0.6.1 pyasn1-modules-0.4.1 pypika-0.48.9 pyproject_hooks-1.1.0 pyreadline3-3.5.4 requests-oauthlib-2.0.0 rich-13.8.1 rsa-4.9 setuptools-75.1.0 shellingham-1.5.4 starlette-0.38.5 sympy-1.13.3 tokenizers-0.20.0 typer-0.12.5 uvicorn-0.30.6 watchfiles-0.24.0 websocket-client-1.8.0 websockets-13.0.1 wrapt-1.16.0 zipp-3.20.2\n"
     ]
    }
   ],
   "source": [
    "# dep\n",
    "! pip install -qU langchain-openai langchain langchain_community langchainhub\n",
    "# vector database\n",
    "! pip install chromadb==0.5.3"
   ]
  },
  {
   "cell_type": "code",
   "execution_count": 9,
   "metadata": {},
   "outputs": [],
   "source": [
    "# import pkg\n",
    "from langchain import hub as langchain_hub\n",
    "from langchain.schema import StrOutputParser\n",
    "from langchain_openai import ChatOpenAI\n",
    "from langchain.schema.runnable import RunnablePassthrough\n",
    "from langchain.text_splitter import MarkdownHeaderTextSplitter\n",
    "from langchain_openai import OpenAIEmbeddings\n",
    "import os\n",
    "#from langchain_chroma import Chroma\n",
    "from langchain_community.vectorstores.chroma import Chroma"
   ]
  },
  {
   "cell_type": "code",
   "execution_count": 10,
   "metadata": {},
   "outputs": [
    {
     "name": "stdout",
     "output_type": "stream",
     "text": [
      "Length of splits: 10\n",
      "[Document(metadata={'Header 1': 'Payment System Operations Knowledge Base', 'Header 2': 'Table of Contents'}, page_content='1. [Introduction](#introduction)\\n2. [System Architecture](#system-architecture)\\n3. [Common Issues and Solutions](#common-issues-and-solutions)\\n4. [Monitoring and Alerts](#monitoring-and-alerts)\\n5. [Security Best Practices](#security-best-practices)\\n6. [Backup and Recovery Procedures](#backup-and-recovery-procedures)\\n7. [Performance Optimization](#performance-optimization)\\n8. [Documentation and Resources](#documentation-and-resources)'), Document(metadata={'Header 1': 'Payment System Operations Knowledge Base', 'Header 2': 'Introduction'}, page_content='This knowledge base provides essential information for the operation and maintenance of the payment system. It is intended for system administrators, developers, and support staff.'), Document(metadata={'Header 1': 'Payment System Operations Knowledge Base', 'Header 2': 'System Architecture'}, page_content='- **Components**: Describe the key components of the payment system, including:\\n- Payment Gateway\\n- Database\\n- Application Server\\n- Third-party Services  \\n- **Data Flow**: Outline the flow of data through the system from the user to the payment processor.'), Document(metadata={'Header 1': 'Payment System Operations Knowledge Base', 'Header 2': 'Common Issues and Solutions', 'Header 3': 'Issue 1: Payment Failure'}, page_content='- **Description**: Payments may fail due to various reasons.\\n- **Solution**: Check the logs for error codes and refer to the payment processor’s documentation.'), Document(metadata={'Header 1': 'Payment System Operations Knowledge Base', 'Header 2': 'Common Issues and Solutions', 'Header 3': 'Issue 2: System Downtime'}, page_content='- **Description**: System may become unavailable.\\n- **Solution**: Verify server status and check for network issues. Restart services if necessary.'), Document(metadata={'Header 1': 'Payment System Operations Knowledge Base', 'Header 2': 'Monitoring and Alerts'}, page_content='- **Tools Used**: List monitoring tools (e.g., Prometheus, Grafana).\\n- **Key Metrics**: Monitor transaction success rates, response times, and system load.\\n- **Alerting**: Set up alerts for critical issues (e.g., high error rates).'), Document(metadata={'Header 1': 'Payment System Operations Knowledge Base', 'Header 2': 'Security Best Practices'}, page_content='- **Data Encryption**: Use TLS for data in transit and AES for data at rest.\\n- **Access Control**: Implement role-based access control (RBAC).\\n- **Regular Audits**: Conduct security audits and vulnerability assessments.'), Document(metadata={'Header 1': 'Payment System Operations Knowledge Base', 'Header 2': 'Backup and Recovery Procedures'}, page_content='- **Backup Schedule**: Define daily, weekly, and monthly backup strategies.\\n- **Recovery Plan**: Outline steps for restoring the system from backups in case of failure.'), Document(metadata={'Header 1': 'Payment System Operations Knowledge Base', 'Header 2': 'Performance Optimization'}, page_content='- **Load Testing**: Regularly perform load testing to identify bottlenecks.\\n- **Database Optimization**: Use indexing and query optimization techniques.'), Document(metadata={'Header 1': 'Payment System Operations Knowledge Base', 'Header 2': 'Documentation and Resources'}, page_content='- **Technical Documentation**: Link to internal wikis or external documentation.\\n- **Training Materials**: Provide resources for training new staff on the payment system.  \\n---  \\nFor further assistance, please contact the operations team.')]\n"
     ]
    }
   ],
   "source": [
    "# read ./data/data.md as knowledge\n",
    "file_path = os.path.join('data', 'data.md')\n",
    "with open(file_path, 'r', encoding='utf-8') as file:\n",
    "    docs_string = file.read()\n",
    "\n",
    "# Split the document into chunks base on markdown headers.\n",
    "headers_to_split_on = [\n",
    "    (\"#\", \"Header 1\"),\n",
    "    (\"##\", \"Header 2\"),\n",
    "    (\"###\", \"Header 3\"),\n",
    "]\n",
    "\n",
    "# split text by header\n",
    "text_splitter = MarkdownHeaderTextSplitter(headers_to_split_on=headers_to_split_on)\n",
    "splits = text_splitter.split_text(docs_string)\n",
    "print(\"Length of splits: \" + str(len(splits)))\n",
    "print(splits)"
   ]
  },
  {
   "cell_type": "code",
   "execution_count": 11,
   "metadata": {},
   "outputs": [
    {
     "name": "stderr",
     "output_type": "stream",
     "text": [
      "C:\\Users\\hiron\\AppData\\Local\\Temp\\ipykernel_15588\\679650500.py:7: LangChainDeprecationWarning: Since Chroma 0.4.x the manual persistence method is no longer supported as docs are automatically persisted.\n",
      "  vectorstore.persist()\n"
     ]
    }
   ],
   "source": [
    "# embed = vectorize & persist to db\n",
    "embedding = OpenAIEmbeddings(\n",
    "    model=\"text-embedding-3-small\", \n",
    "    openai_api_key=\"BLOCKED\",\n",
    "    openai_api_base=\"https://api.apiyi.com/v1\")\n",
    "vectorstore = Chroma.from_documents(documents=splits, embedding=embedding,persist_directory=\"./chroma_langchain_db\")\n",
    "vectorstore.persist()"
   ]
  },
  {
   "cell_type": "code",
   "execution_count": 12,
   "metadata": {},
   "outputs": [
    {
     "name": "stdout",
     "output_type": "stream",
     "text": [
      "* [similarity=1.060808] - **Components**: Describe the key components of the payment system, including:\n",
      "- Payment Gateway\n",
      "- Database\n",
      "- Application Server\n",
      "- Third-party Services  \n",
      "- **Data Flow**: Outline the flow of data through the system from the user to the payment processor. [{'Header 1': 'Payment System Operations Knowledge Base', 'Header 2': 'System Architecture'}]\n"
     ]
    }
   ],
   "source": [
    "# retrieve by score\n",
    "results = vectorstore.similarity_search_with_score(\n",
    "    \"payment service\",\n",
    "    k=1,\n",
    ")\n",
    "for res, score in results:\n",
    "    print(f\"* [similarity={score:3f}] {res.page_content} [{res.metadata}]\")"
   ]
  },
  {
   "cell_type": "code",
   "execution_count": 14,
   "metadata": {},
   "outputs": [
    {
     "name": "stdout",
     "output_type": "stream",
     "text": [
      "* [similarity=1.075319] - **Backup Schedule**: Define daily, weekly, and monthly backup strategies.\n",
      "- **Recovery Plan**: Outline steps for restoring the system from backups in case of failure. [{'Header 1': 'Payment System Operations Knowledge Base', 'Header 2': 'Backup and Recovery Procedures'}]\n"
     ]
    }
   ],
   "source": [
    "# retrieve by vector\n",
    "results = vectorstore.similarity_search_by_vector_with_relevance_scores(\n",
    "    embedding=embedding.embed_query(\"backup\"), k=1\n",
    ")\n",
    "for doc, score in results:\n",
    "    print(f\"* [similarity={score:3f}] {doc.page_content} [{doc.metadata}]\")"
   ]
  },
  {
   "cell_type": "code",
   "execution_count": 17,
   "metadata": {},
   "outputs": [
    {
     "name": "stdout",
     "output_type": "stream",
     "text": [
      "[0.01491538342088461, 0.003154066391289234, 0.04614410921931267, -0.0138293681666255, -0.025763986632227898, -0.006313909776508808, 0.011339619755744934, 0.012419858947396278, -0.04092198982834816, -0.02463175728917122, 0.004967943299561739, 0.023869235068559647, 0.005389641039073467, -0.0138293681666255, -0.004219863563776016, 0.0650222897529602, -0.04995671659708023, -0.03269600123167038, -0.03177173063158989, 0.0029980961699038744, -0.002538850298151374, 0.01320548728108406, 0.06728675216436386, -0.01329791359603405, -0.006400559563189745, -0.018727991729974747, -0.030616395175457, -0.05088098347187042, 0.04720701649785042, -0.07232401520013809, 0.02347642183303833, -0.04806196317076683, 0.021096430718898773, 0.004234305117279291, 0.03683210164308548, 0.03576919436454773, 0.038287825882434845, -0.025417385622859, 0.011899957433342934, -0.0018239861819893122, 0.003517997218295932, -0.05855241417884827, 0.034244149923324585, 0.037363555282354355, 0.03643928840756416, 0.04062160477042198, -0.03692452982068062, -0.04154587164521217, 0.03868063911795616, 0.0385419987142086, 0.005759348627179861, -0.019155465066432953, -0.024215836077928543, 0.07685293257236481, -0.0009842015570029616, -0.010473118163645267, 0.012188791297376156, 0.023869235068559647, -0.030177367851138115, -0.010109187103807926, -0.04466527700424194, -0.06160249933600426, 0.0036162007600069046, -0.004488479346036911, -0.03680899366736412, -0.041476551443338394, 0.017896149307489395, 0.06710189580917358, -0.03373580053448677, 0.02250593900680542, 0.029068246483802795, 0.04082956537604332, -0.002969212830066681, -0.028120871633291245, 0.015874313190579414, 0.015238877385854721, 0.031032316386699677, 0.03879617154598236, 0.029853874817490578, 0.0067009469494223595, -0.011466707102954388, 0.03382822871208191, 0.018647117540240288, -0.0009777027880772948, -0.018566245213150978, -0.00969904288649559, -0.07250887155532837, 0.0371093824505806, 0.01641732081770897, -0.020079733803868294, 0.011235639452934265, 0.009843460284173489, 0.016116933897137642, 0.0003354084037709981, 0.02255215309560299, 0.0068338108249008656, 0.017942363396286964, -0.01942119374871254, 0.00437583401799202, 0.02032235451042652, -0.025833306834101677, -0.04064470902085304, -0.02950727380812168, -0.08526377379894257, 0.010097634047269821, 0.008948074653744698, 0.012119471095502377, -0.03066260926425457, -0.01750333607196808, 0.032233867794275284, -0.07338692247867584, -0.056703876703977585, -0.021685650572180748, -0.0059268721379339695, 0.028375044465065002, -0.021743418648838997, 0.03057018294930458, -0.0008888863958418369, 0.03493735194206238, -0.030154261738061905, 0.0029186666943132877, 0.014395482838153839, -0.00920802541077137, -0.021027110517024994, 0.012454519048333168, 0.00638900650665164, -0.02260991930961609, 0.001230432535521686, -0.03375890851020813, -0.049725648015737534, -0.011039232835173607, 0.000809457094874233, 0.052637092769145966, -0.07736127823591232, -0.012858886271715164, -0.005178792402148247, -0.011582240462303162, -0.04166140407323837, -0.036162007600069046, -0.006648956798017025, 0.04163829982280731, 0.002003063214942813, -0.009317782707512379, -0.010773505084216595, -0.03805675730109215, 0.05023399740457535, 0.005915318615734577, 0.022910306230187416, 0.025232531130313873, 0.022205552086234093, -0.016694601625204086, 0.021142642945051193, -0.013806261122226715, 0.007018664386123419, -0.05730465054512024, -0.03054707497358322, -0.03472939133644104, 0.006960897706449032, -0.03967422619462013, 0.017665082588791847, -0.03766394406557083, 0.04801575094461441, 0.0071110911667346954, -0.04815439134836197, -0.008595697581768036, -0.003295595059171319, -0.06437530368566513, 0.00344001199118793, -0.0631275400519371, -0.046282749623060226, -0.026133693754673004, 0.014464803040027618, 0.00011210366938030347, 0.008023806847631931, -0.03648550063371658, -0.0006054681143723428, 0.0019727356266230345, -0.00973370298743248, 0.002785803284496069, -0.0138293681666255, 0.025787092745304108, 0.01833517663180828, 0.057766783982515335, 0.011992384679615498, -0.022840986028313637, 0.014684316702187061, 0.004696439485996962, 0.029414847493171692, 0.006804927252233028, 0.00973947998136282, -0.011582240462303162, 0.0650222897529602, -0.002069495152682066, 0.013101506978273392, -0.015516158193349838, -0.016763921827077866, -0.05115826427936554, -0.0076656523160636425, -0.004658891353756189, 0.015227324329316616, -0.018589351326227188, -0.02539427950978279, -0.004442265722900629, 0.025093890726566315, -0.022829433903098106, -0.00048560203867964447, -0.02360350824892521, 0.030015621334314346, -0.028259512037038803, -0.03909656032919884, 0.040298108011484146, -0.009028948843479156, -0.02546359784901142, -0.011865297332406044, 0.0024247607216238976, 0.007116867695003748, 0.03965112194418907, 0.02250593900680542, -0.02236729860305786, -0.013575194403529167, -0.005496509373188019, -0.033204346895217896, 0.02763563022017479, 0.019710026681423187, 0.028790965676307678, 0.042493246495723724, 0.020923130214214325, -0.03066260926425457, -0.03586161881685257, -0.020229928195476532, 0.008878754451870918, -0.02458554320037365, -0.02344176173210144, -0.020830702036619186, -0.021870505064725876, 0.0031482898630201817, -0.011888404376804829, -0.010738844983279705, 0.00765409879386425, -0.03773326426744461, -0.03563055396080017, 0.011911511421203613, -0.006036628969013691, -0.01825430430471897, -0.05004914104938507, 0.0037837245035916567, 0.013124613091349602, -0.003581540659070015, -0.05901454761624336, 0.06377453356981277, 0.013471214100718498, -0.01949051395058632, -0.01065797172486782, 0.0029923194088041782, 0.03754841163754463, -0.032372504472732544, 0.033158134669065475, -0.00691468408331275, -0.02141992375254631, -0.009964770637452602, -0.03447521850466728, -0.026110587641596794, -0.011270299553871155, -0.007885166443884373, -0.022944966331124306, 0.0451505184173584, 0.05134311690926552, -0.02652650699019432, 0.053700003772974014, -0.022933414205908775, -0.028998926281929016, -0.01722605526447296, 0.015770332887768745, -0.02851368486881256, -0.07671429216861725, 0.03371269628405571, -0.0031656199134886265, 0.013124613091349602, 0.020253034308552742, 0.09104045480489731, -0.018647117540240288, -0.055779606103897095, -0.0018369837198406458, 0.01280111912637949, 0.04907866194844246, 0.054624270647764206, -0.0011611123336479068, 0.025810198858380318, 0.03884238749742508, 0.007105314638465643, -0.02228642627596855, -0.03542259335517883, 0.0021142642945051193, -0.0297845546156168, 0.036346860229969025, 0.024169621989130974, -0.05018778145313263, -0.047599829733371735, -0.017537996172904968, 0.015100237913429737, 0.049771860241889954, 0.044341783970594406, -0.002355440752580762, 0.05850619822740555, -0.0065969666466116905, -0.00514990882948041, -0.02858300507068634, -0.025070784613490105, 0.007885166443884373, 0.022217106074094772, 0.010969912633299828, -0.01935187354683876, -0.04725322872400284, 0.014511016197502613, 0.0011004572734236717, -0.05328408256173134, -0.01425684243440628, -0.035145312547683716, 0.034128617495298386, -0.07555895298719406, -0.01939808577299118, -0.05115826427936554, 0.013552087359130383, 0.04062160477042198, -0.014430142939090729, -0.00920224841684103, -0.010577098466455936, -0.031355809420347214, 0.005484956316649914, 0.011391609907150269, -0.06044716387987137, -0.06700947135686874, 0.040367428213357925, -0.005444519687443972, 0.02047254890203476, -0.02458554320037365, 0.00871700793504715, 0.024285156279802322, -0.002907113404944539, -0.06238812580704689, -0.06770267337560654, -0.0034226819407194853, -0.04170762002468109, 0.011420493014156818, -0.016752367839217186, -0.040436748415231705, 0.020033521577715874, 0.042447034269571304, 0.004820638336241245, 0.006360122933983803, -0.027265923097729683, 0.019074592739343643, -0.01132228970527649, -4.865046503255144e-05, 0.03572297841310501, 0.006776043679565191, 0.023684382438659668, -0.024770397692918777, 0.03586161881685257, 0.04706837609410286, 0.0038559329695999622, 0.02950727380812168, 0.023823022842407227, -0.03907345235347748, -0.007700312417000532, 0.03812607750296593, -0.040390536189079285, -0.0017676636343821883, 0.01752644218504429, 0.019617600366473198, 0.0029143341816961765, -0.01937497965991497, -0.05850619822740555, 0.019698474556207657, -0.10240895301103592, 0.03491424396634102, -0.003827049396932125, -0.04408761113882065, -0.003604647470638156, 0.03241872042417526, -0.012096364982426167, -0.002595172729343176, -0.001025360426865518, 0.036346860229969025, 0.01730692945420742, 0.01626712642610073, -0.03881927952170372, 0.05194389447569847, 0.0014817180344834924, -0.03794122487306595, -0.00974525697529316, -0.01619780622422695, 0.029068246483802795, -0.036208219826221466, 0.0047570946626365185, 0.018612457439303398, 0.011934617534279823, 0.02256370708346367, 0.015585478395223618, 0.04461906477808952, 0.01478829700499773, 0.002621167805045843, -0.053792428225278854, 0.012073257938027382, 0.01649819314479828, 0.01013229414820671, 0.011432047002017498, -0.011911511421203613, 0.036254435777664185, -0.016763921827077866, 0.006181045901030302, -0.015643244609236717, 0.030177367851138115, -0.00023467755818273872, 0.025232531130313873, 0.005805561784654856, 0.0046560028567910194, -0.011137436144053936, -0.017884597182273865, -0.013159273192286491, 0.0192709993571043, 0.0010896259918808937, -0.044434212148189545, 0.0056640333496034145, -0.014152862131595612, -0.02235574647784233, -0.0025532918516546488, 0.004115883260965347, 0.046328961849212646, -0.04311712831258774, -0.011079668998718262, -0.0007502461085096002, -0.019975753501057625, 0.06340482085943222, 0.0021359268575906754, 0.018820418044924736, -0.009496859274804592, -0.007451915182173252, -0.0346369631588459, 0.0009235464967787266, -0.011310736648738384, -0.03962801396846771, 0.00976836308836937, 0.030986104160547256, -0.04360236972570419, -0.019028378650546074, -0.013528981246054173, -0.01848537102341652, -0.059753961861133575, -0.0003614034503698349, 0.02237885259091854, 0.0025229642633348703, -0.06021609529852867, -0.0265958271920681, -0.022217106074094772, -0.017653528600931168, -0.004840856418013573, 0.014233735390007496, 0.05009535700082779, 0.0015842540888115764, 0.022725453600287437, 0.005178792402148247, 0.00186153466347605, 0.002213912084698677, 0.05961532145738602, -0.01069840881973505, 0.027358349412679672, 0.0148922773078084, -0.037363555282354355, -0.04991050064563751, 0.014118202030658722, 0.055687181651592255, 0.0008166779298335314, 0.018000129610300064, -0.0243544764816761, -0.0275432039052248, 0.010380690917372704, -0.0148922773078084, 0.012685585767030716, -0.022748559713363647, -0.00101452914532274, -0.022078465670347214, -0.042239073663949966, 0.025995053350925446, -0.052775733172893524, 0.13679175078868866, 0.035260844975709915, 0.03341230750083923, 0.019779346883296967, -0.02144302986562252, -0.005144132301211357, 0.014961597509682178, 0.03140202537178993, -0.010750398971140385, -0.01826585829257965, -0.046583134680986404, -0.015851205214858055, -0.009462199173867702, 0.044411104172468185, 0.0020348350517451763, -0.0255329180508852, -0.02673446759581566, -0.04612100124359131, 0.04614410921931267, 0.034128617495298386, 0.007521235384047031, -0.04792332649230957, 0.028467470780014992, 0.008451280184090137, 0.0043036253191530704, 0.0019741798751056194, -0.010155401192605495, 0.013413447886705399, 0.0024680858477950096, -0.03331988304853439, -0.0006910351803526282, -0.014545676298439503, 0.012258111499249935, -0.01224655844271183, -0.05240602791309357, 0.004612677730619907, -0.020992450416088104, -0.005225005559623241, -0.011495590209960938, 0.0092484625056386, -0.017688188701868057, -0.004895735066384077, -0.07347934693098068, 0.016579067334532738, -0.05333029478788376, 0.0068858009763062, 0.02062274143099785, -0.02058808133006096, -0.026965534314513206, -0.00487262848764658, 0.041314803063869476, 0.017006540670990944, 0.027034854516386986, -0.0013849586248397827, 0.019721580669283867, 0.03204901143908501, 0.027150388807058334, 0.0059730857610702515, -0.015446837991476059, 0.0077234189957380295, -0.004719546530395746, 0.036416180431842804, 0.011628453619778156, 0.011865297332406044, 0.020218374207615852, -0.010865932330489159, -0.030939890071749687, -0.0074750217609107494, 0.0027699172496795654, 0.03542259335517883, -0.052637092769145966, 0.012939759530127048, 0.013136167079210281, 0.0369938500225544, -0.00038089972804300487, 0.02652650699019432, 0.04186936467885971, 0.0329732820391655, -0.038357146084308624, -0.003763505956158042, -0.007070654537528753, 0.03660103306174278, -0.011980831623077393, -0.0017734402790665627, -0.02657272107899189, -0.013979561626911163, 0.022702345624566078, 0.01125874649733305, -0.04672177508473396, -0.025255639106035233, 0.04619032144546509, 0.015065577812492847, -0.05619552731513977, -0.018889738246798515, -0.016994988545775414, -0.012304325588047504, -0.000798625813331455, -0.048616524785757065, 0.007209294941276312, 0.011946171522140503, -0.022124677896499634, 0.03868063911795616, 0.0138293681666255, -0.030986104160547256, -0.01836983673274517, -0.006146385800093412, -0.008497494272887707, 0.004722434561699629, -0.013598301447927952, 0.02137370966374874, 0.0595691092312336, 0.02953037992119789, 0.03299638628959656, -0.031170956790447235, -0.012570052407681942, -0.01846226491034031, -0.040205683559179306, 0.02775116264820099, 0.013043739832937717, 0.0410144180059433, 0.044434212148189545, -0.033204346895217896, -0.00967015977948904, -0.03803364932537079, 0.03886549174785614, 0.032256972044706345, -0.011946171522140503, 0.009647052735090256, -0.02562534622848034, 0.00011399913637433201, 0.006152162794023752, -0.015238877385854721, -0.0019409640226513147, -0.010062973946332932, -0.03600025922060013, -0.015296644531190395, 0.03355094790458679, 0.006550753489136696, 0.002411763183772564, -0.028467470780014992, 0.033342987298965454, -0.027011748403310776, -0.009040501900017262, -0.048431672155857086, -0.006348569877445698, -0.02360350824892521, 0.00910982210189104, 0.01741090975701809, -0.012084810994565487, -0.015539265237748623, 0.024077195674180984, 0.006492986809462309, 0.015400624834001064, 0.008324193768203259, -0.016521301120519638, 0.015839653089642525, 0.0005238725570961833, -0.02236729860305786, -0.03951248154044151, 0.0004014791629742831, -0.016613727435469627, 0.0001278992713196203, 0.029183778911828995, -0.015804992988705635, 0.01370228175073862, -0.007567449007183313, -0.020206822082400322, 0.025833306834101677, 0.03271910548210144, 0.010525108315050602, -0.04018257558345795, 0.030847463756799698, 0.004517362453043461, -0.007948709651827812, 0.0071977414190769196, -0.010022536851465702, 0.010819719173014164, 0.017838383093476295, -0.012258111499249935, -0.017780616879463196, 0.02957659400999546, -0.017757508903741837, 0.0022702347487211227, 0.014984703622758389, -0.039188988506793976, -0.014511016197502613, 0.003942583221942186, 0.03295017406344414, 0.002495525171980262, -0.025324959307909012, -0.010242050513625145, -0.005548499524593353, -0.045312266796827316, 0.015816545113921165, 0.006146385800093412, -0.009762587025761604, 0.005456072743982077, -0.020160607993602753, 0.000860725122038275, 0.02453933097422123, -0.0043353973887860775, 0.0024738626088947058, -0.00585755193606019, -0.0053116558119654655, -0.004514474421739578, -0.036346860229969025, -0.027289029210805893, 0.024169621989130974, -0.01221189834177494, 0.0387730672955513, 0.0013127501588314772, 0.02973834052681923, -0.008982734754681587, -0.005938425660133362, 0.050557490438222885, 0.017214501276612282, -0.010831272229552269, -0.009889673441648483, -0.0087458910420537, -0.06261919438838959, -0.028883391991257668, -0.017792169004678726, 0.024770397692918777, -0.027312135323882103, -0.04191558063030243, -0.02162788435816765, 0.019802452996373177, -0.023256907239556313, 0.0009502636385150254, 0.016925668343901634, 0.00741147855296731, -0.024724183604121208, 0.006579636596143246, 0.025324959307909012, -0.06021609529852867, 0.024909038096666336, 0.00815089326351881, -0.0446883849799633, -0.008318416774272919, -0.00825487356632948, 0.03151755779981613, -0.013020633719861507, -0.011674666777253151, -0.03595404699444771, -0.007856282405555248, 0.012916653417050838, -0.043417517095804214, 0.015735672786831856, 0.02243661880493164, 0.02233263850212097, -0.004933283198624849, -0.049771860241889954, 0.013251700438559055, -0.00974525697529316, -0.011553357355296612, -0.005967308767139912, -0.03706317022442818, -0.0023251131642609835, -0.013251700438559055, -0.012662479653954506, -0.005071923602372408, 0.024262050166726112, 0.04022878780961037, -0.024077195674180984, 0.024030981585383415, -0.010889039374887943, 0.0052567776292562485, -0.025925733149051666, -0.017618868499994278, -0.0034053518902510405, -0.04168451204895973, -0.007093761116266251, -0.009439093060791492, -0.007295944727957249, 0.013552087359130383, 0.034267257899045944, 0.005418524611741304, 0.007775409147143364, 0.017214501276612282, -0.021697204560041428, -0.038241609930992126, -0.017988577485084534, -0.03988218680024147, -0.0008419508812949061, -0.015458391979336739, 0.004159208387136459, -0.0086881248280406, 0.042308393865823746, 0.0003209667047485709, -0.013887135311961174, 0.03181794658303261, -0.0225174929946661, -0.012419858947396278, -0.00026446356787346303, -0.0034169054124504328, 0.008636134676635265, -0.003211833303794265, -0.009722149930894375, 0.05208253487944603, 0.008353076875209808, -0.0032695999834686518, 0.011333842761814594, 0.006984004285186529, -0.02235574647784233, 0.011062338948249817, 0.0036277540493756533, -0.04466527700424194, 0.03147134557366371, -0.010317147709429264, 0.03546880558133125, -0.03764083608984947, -0.0469297356903553, -0.04191558063030243, 0.018727991729974747, 0.04006704315543175, -0.0032176098320633173, -0.03255736082792282, 0.02980766072869301, 0.009450646117329597, 0.012015490792691708, 0.0051065837033092976, -0.0491710864007473, 0.0039021463599056005, -0.004332508891820908, -0.05402349680662155, -0.02162788435816765, 0.01126452349126339, 0.042331498116254807, 0.016902560368180275, 0.03613889962434769, 0.013875581324100494, -0.019906433299183846, -0.004991050343960524, 0.02557913213968277, -0.03336609527468681, 0.034197937697172165, -0.004684886429458857, -0.019929541274905205, -0.025810198858380318, 0.016012953594326973, -0.043371301144361496, -0.0015712565509602427, 0.05092719569802284, 0.017618868499994278, 0.0037288458552211523, 0.003945471253246069, 0.005938425660133362, 0.032025907188653946, -0.03057018294930458, 0.001881752978079021, -0.0011084001744166017, -0.026064373552799225, -0.0243544764816761, -0.05203631892800331, 0.01644042693078518, -0.008064243011176586, 0.010871709324419498, 0.05633416771888733, -0.01644042693078518, 0.035307057201862335, -0.028375044465065002, -0.0081855533644557, -0.01940963976085186, -0.025371171534061432, -0.0009401544230058789, 0.012200345285236835, -0.009121375158429146, 0.034151721745729446, 0.011039232835173607, -0.028837179765105247, -0.001639132504351437, -0.0006440996658056974, 0.01217723824083805, 0.01649819314479828, -0.014534123241901398, -0.025232531130313873, 0.0064814332872629166, 0.00967593677341938, 0.005687139928340912, 0.02161633037030697, 0.005274107679724693, 0.013667621649801731, 0.0368783138692379, 0.02643408067524433, -0.02761252224445343, 0.010860155336558819, -0.01334412768483162, -0.003029867773875594, -0.017665082588791847, -0.007295944727957249, -0.005291437264531851, 0.007833176292479038, 0.08762066066265106, -0.0038183843716979027, 0.020668955519795418, 0.010917922481894493, -0.03574608638882637, -0.009121375158429146, 0.01630178652703762, 0.03916588053107262, 0.020900022238492966, -0.0061175026930868626, 0.009999430738389492, 0.020172161981463432, -0.003396686865016818, -0.03295017406344414, 0.011391609907150269, -0.020068181678652763, -0.03151755779981613, -0.021246623247861862, -0.026318546384572983, -0.0058835470117628574, 0.04912487417459488, -0.020888470113277435, -0.005181680433452129, 0.0067471605725586414, -0.014950043521821499, -0.0148922773078084, 0.021916717290878296, 0.004953501746058464, 0.01828896440565586, -0.0017922144616022706, -0.008555260486900806, -0.03158687800168991, 0.009941663593053818, 0.00023901007079984993, -0.002257237210869789, -0.016590621322393417, -0.015019363723695278, 0.009052054956555367, 0.004578017629683018, -0.031032316386699677, -0.01485761720687151, 0.017688188701868057, -0.049494579434394836, -0.008630357682704926, 0.02574087865650654, -0.012408304959535599, 0.023314673453569412, 0.03170241042971611, -0.005438742693513632, 0.015793439000844955, 0.021939825266599655, 0.042377714067697525, -0.039258308708667755, -0.007157304789870977, -0.0018095445120707154, 0.008023806847631931, -0.027034854516386986, 0.01739935576915741, 0.006521869916468859, -7.95647210907191e-05, -0.014476356096565723, -0.003604647470638156, -0.012015490792691708, -0.015689458698034286, -0.0031800614669919014, 0.018947506323456764, 0.03609268739819527, -0.014568783342838287, -0.022713899612426758, -0.001985733164474368, -0.011091222986578941, 0.04360236972570419, -0.01119520328938961, 0.023799914866685867, -0.03609268739819527, 0.0491710864007473, -0.01624402031302452, 0.01929410547018051, 0.008815211243927479, 0.02230953238904476, 0.035353273153305054, 0.050511278212070465, -0.028837179765105247, -0.0013416336150839925, 0.007382594980299473, 0.022921860218048096, 0.014557229354977608, 0.017711296677589417, 0.03472939133644104, -0.012650925666093826, -0.0034486770164221525, 0.025971947237849236, 0.0006289358716458082, -0.015631692484021187, 0.011541803367435932, 0.04833924397826195, 0.0007906828541308641, 0.0031020762398838997, 0.0017633311217650771, 0.003954136278480291, 0.0056207082234323025, -0.015169558115303516, 0.023938555270433426, 0.034221041947603226, 0.060955509543418884, 0.03244182467460632, 0.004190980456769466, 0.023002734407782555, 0.03583851456642151, 0.05582582205533981, 0.011622677557170391, -0.013217040337622166, -0.023233801126480103, 0.004927506670355797, -0.006966674234718084, 0.015932079404592514, -0.0005874159978702664, 0.005424301140010357, 0.009150258265435696, -0.013471214100718498, -0.07870146632194519, 0.016105379909276962, -0.0029980961699038744, -0.005482067819684744, 0.0068915775045752525, 0.036162007600069046, -0.011865297332406044, -0.02763563022017479, 0.015781885012984276, 0.02966902032494545, 0.023869235068559647, -0.013910241425037384, -0.00871700793504715, 0.009046278893947601, -0.02256370708346367, -0.01534285768866539, 0.0033100368455052376, -0.013193933293223381, -0.02333778142929077, 0.008786328136920929, 0.014811404049396515, -0.01619780622422695, 0.001842760480940342, -0.022251766175031662, -0.03385133668780327, -0.01121830940246582, 0.02154701016843319, 0.00865346472710371, 0.009052054956555367, 0.00744036165997386, -0.0001668918557697907, 0.044457316398620605, 0.029022032395005226, 0.007700312417000532, -0.010311370715498924, 0.016971880570054054, 0.007151527795940638, 0.01619780622422695, -0.047461189329624176, -0.028975820168852806, 0.006377452984452248, -0.03671656921505928, -0.005444519687443972, -0.02562534622848034, 0.007740749046206474, 0.015885865315794945, 0.016983434557914734, -0.009444869123399258, -0.01228121854364872, 0.0323956124484539, -0.00974525697529316, 0.0148922773078084, 0.018104109913110733, 0.007423032075166702, -0.02235574647784233, 0.004144766833633184, -0.008768998086452484, -0.011495590209960938, -0.0019106364343315363, 0.006371676456183195, -0.029946301132440567, 0.027959123253822327, 0.004251635167747736, -0.00012798953684978187, -0.011588017456233501, -0.008266426622867584, -0.01336723379790783, 0.03077814355492592, -0.00047152137267403305, -0.045612651854753494, 0.07190809398889542, 0.03542259335517883, -0.010877485387027264, -0.014199075289070606, -0.011616900563240051, 3.4327235880482476e-06, 0.00024243997177109122, 0.0043353973887860775, -0.011536027304828167, -0.03768705204129219, -0.01842760480940342, -0.01079083513468504, 0.005652479827404022, -0.02849057875573635, -0.016567513346672058, 0.032326292246580124, -0.0030356445349752903, 0.00667206384241581, -0.0026312770787626505, 0.018566245213150978, 0.014926937408745289, 0.03073192946612835, -0.027335243299603462, 0.000620631908532232, 0.013921795412898064, -0.0006116058211773634, 0.01939808577299118, 0.024054089561104774, -0.011091222986578941, -0.015539265237748623, -0.004913065116852522, 0.02162788435816765, 0.00822599045932293, -0.003275376744568348, 0.008924968540668488, -0.0012874772073701024, -0.007573225535452366, -0.020680509507656097, -0.0028580117505043745, 0.01940963976085186, -0.001779216923750937, 0.052544668316841125, -0.029229993000626564, 0.00973370298743248, 0.002434869995340705, -0.031217170879244804, 0.030154261738061905, -0.0021445918828248978, -0.02162788435816765, -0.014869170263409615, -0.008023806847631931, 0.03248804062604904, 0.0153081975877285, -0.0015813657082617283, -0.022979626432061195, -0.004759983159601688, -0.011125883087515831, -0.036208219826221466, -0.0030356445349752903, 0.024169621989130974, 0.017722848802804947, 0.049540795385837555, -0.01736469566822052, 0.001381348236463964, -0.004003238398581743, 0.022840986028313637, 0.02147768996655941, 0.007290168199688196, 0.014926937408745289, -0.010478895157575607, 0.016047613695263863, 0.012419858947396278, 2.5047315830306616e-06, 0.047414977103471756, 0.009987876750528812, -0.028375044465065002, -0.009410209022462368, 0.030454648658633232, -0.03974354639649391, -0.0058373333886265755, 0.09381325542926788, -0.01336723379790783, -0.027889803051948547, -0.04212354123592377, -0.01129340659826994, -0.008838318288326263, 0.025301851332187653, -0.014661209657788277, -0.021928271278738976, 0.010617534630000591, -0.011865297332406044, 0.033204346895217896, 0.0014629438519477844, 0.0032811532728374004, -0.006770267151296139, -0.016914114356040955, -0.01121830940246582, -0.00808735005557537, -0.016879454255104065, -0.037294235080480576, 0.012939759530127048, 0.023846128955483437, 0.005756460130214691, -0.01181330718100071, 0.012304325588047504, -0.028975820168852806, -0.027912911027669907, -0.03479871153831482, 0.045635759830474854, 0.05628795549273491, 0.025879519060254097, -0.006556530017405748, -0.026341654360294342, 0.0033244783990085125, -0.007509681861847639, -0.035145312547683716, -0.017630422487854958, 0.02453933097422123, 0.0038761512842029333, 0.0024493117816746235, -0.02364972233772278, 0.008168223313987255, -0.005978862289339304, -0.03179483860731125, 3.7774061638629064e-05, -0.03301949426531792, 0.0011394498869776726, -0.03188726678490639, -0.02040322870016098, 0.020021967589855194, 0.03777947649359703, 0.01333257369697094, -0.005066147074103355, -0.009907003492116928, -0.044434212148189545, -0.027381455525755882, -0.02255215309560299, 0.026179905980825424, 0.012304325588047504, -0.00108457135502249, 0.008607250638306141, 0.009751033037900925, 0.05004914104938507, -0.011899957433342934, 0.016128486022353172, 0.006273472681641579, -0.004211198538541794, -0.05185146629810333, 0.022991180419921875, 0.011403162963688374, -0.016763921827077866, 0.03807986527681351, -0.01333257369697094, -0.0005256777512840927, 0.012038597837090492, -0.015527712181210518, -0.007399925030767918, 0.01436082273721695, -0.010184284299612045, -0.0008773330482654274, -0.005672698374837637, 0.041592083871364594, 0.018716437742114067, 0.0010080303763970733, 0.0006928403745405376, 0.005308767315000296, 0.029461059719324112, 0.0026673811953514814, -0.0003155510639771819, 0.00486973999068141, 0.0215123500674963, -0.014175969175994396, 0.005655368324369192, 0.024770397692918777, 0.0009322114638052881, 0.0004170039901509881, 0.0059846388176083565, -0.00430940231308341, -0.021073322743177414, -0.011888404376804829, 0.013852475211024284, -0.008376183919608593, -0.040413644164800644, -0.0021460361313074827, -0.015261984430253506, 0.009404432959854603, 0.005672698374837637, 0.032326292246580124, -0.01857779733836651, 0.013956455513834953, 0.0045520225539803505, -0.008324193768203259, -0.00923690851777792, -0.005817115306854248, 0.01729537546634674, -0.03160998597741127, 0.008942298591136932, -0.028444364666938782, -0.016128486022353172, 0.006065512541681528, -0.0056207082234323025, 0.029992515221238136, 0.022228658199310303, -0.027081068605184555, -0.02062274143099785, -0.002885450841858983, 0.0046415613032877445, 0.027289029210805893, -0.009577732533216476, -0.03276532143354416, 0.023984769359230995, 0.010577098466455936, -7.112535240594298e-05, 0.0019554055761545897, 0.01073306892067194, -0.004173650406301022, -0.00825487356632948, -0.020703615620732307, 0.03359716385602951, -0.026757575571537018, -0.017653528600931168, 0.010923699475824833, 0.029969407245516777, 0.02458554320037365, -0.005877770483493805, 0.02146613784134388, 0.020253034308552742, -0.022459726780653, 0.019224785268306732, -0.050372637808322906, 0.005011268425732851, -0.027889803051948547, 0.00716308131814003, 0.006001968868076801, 0.02262147329747677, 0.011108553037047386, 0.022737005725502968, 0.004020568449050188, 0.015169558115303516, -0.007937156595289707, -0.01273179892450571, -0.0086881248280406, -0.014268395490944386, 0.00455779954791069, 0.0023395547177642584, -0.016787027940154076, -0.016024505719542503, 0.016856348142027855, 0.007394148502498865, -0.003668190911412239, 0.0030818579252809286, -0.013644514605402946, 0.00033017329405993223, -0.013113060034811497, -0.005126802250742912, 0.005308767315000296, -0.027242815122008324, 0.004208310507237911, -0.00012889213394373655, -0.028190191835165024, -0.0011842191452160478, 0.008301086723804474, -0.0009856458054855466, 0.055687181651592255, -0.026896214112639427, 0.022771665826439857, -0.0005866939318366349, -0.003494890406727791, -0.009121375158429146, -0.014441695995628834, 0.0008007920696400106, 0.009011618793010712, 0.0534227229654789, 0.002618279540911317, 0.014407035894691944, -0.0005347037804313004, -0.0025706219021230936, 0.008659240789711475, -0.016082273796200752, 0.012546945363283157, 0.013690727762877941, -0.009514189325273037, 0.014095095917582512, 0.02248283289372921, 0.03773326426744461, -0.0025345177855342627, -0.0073594884015619755, -0.03052396886050701, -0.02057652920484543, -0.00970481988042593, 0.0015120456228032708, -0.02150079794228077, -0.005510951392352581, -0.0019294106168672442, -0.0069493441842496395, 0.004543357528746128, 0.04986428841948509, -0.004705104511231184, -0.009623946622014046, 0.009000064805150032, -0.016902560368180275, 0.01650974713265896, 0.016844794154167175, -0.016128486022353172, -0.043579261749982834, -0.02150079794228077, 0.018727991729974747, -0.021015556529164314, -0.007284391671419144, -0.017607316374778748, 0.002478195121511817, -0.012662479653954506, -0.00016174699703697115, -0.023961663246154785, -0.006313909776508808, -0.01334412768483162, -0.025856412947177887, -0.04820060357451439, 0.012084810994565487, 0.03336609527468681, 0.0029923194088041782, -0.057628143578767776, -0.014268395490944386, -0.002725148107856512, 0.017815276980400085, -0.01217723824083805, 0.033111922442913055, -0.010074527002871037, -0.028975820168852806, 0.04981807619333267, -0.028767859563231468, -0.012061704881489277, 0.012674032710492611, 0.011368502862751484, -0.011403162963688374, -0.00536653446033597, 0.011333842761814594, -0.048431672155857086, -0.010478895157575607, 0.015908973291516304, 0.02440069057047367, -0.012512285262346268, -0.0016550184227526188, -0.030362222343683243, -0.017514890059828758, 0.0012715914053842425, -0.0068338108249008656, 0.004251635167747736, 0.00038775952998548746, -0.007324828300625086, 0.010975688695907593, -0.016879454255104065, -0.015851205214858055, 0.011206756345927715, -0.01625557243824005, 0.01733003556728363, -0.007076431065797806, 0.017838383093476295, 0.004176538437604904, -0.015019363723695278, -0.004765759687870741, 0.01839294470846653, -0.015839653089642525, -0.03338920325040817, 0.019871773198246956, -0.004982385318726301, 0.0022471279371529818, 0.011281853541731834, -0.016925668343901634, 0.020680509507656097, 0.009467976167798042, 0.009855013340711594, -0.004809084814041853, 0.020934682339429855, 0.0046560028567910194, -0.015851205214858055, -0.029229993000626564, 0.012500732205808163, -0.01273179892450571, -0.001218157121911645, 0.0058691054582595825, -0.012061704881489277, -0.007330604828894138, -0.014834510162472725, -0.007070654537528753, -0.01181330718100071, -0.04057538881897926, 0.027889803051948547, 0.005545611493289471, -0.004260300192981958, 0.00437583401799202, -0.005571606568992138, 0.017075860872864723, -0.026203013956546783, 0.039466265588998795, 0.006221482530236244, 0.019894881173968315, -0.015065577812492847, 0.028120871633291245, -0.011466707102954388, 0.022009145468473434, -0.032326292246580124, 0.012350538745522499, -0.009681712836027145, 0.030131155624985695, -0.0011611123336479068, 0.02244817279279232, 0.00586044043302536, 0.02442379668354988, 0.03660103306174278, -8.227254147641361e-05, 0.031147850677371025, -0.019132358953356743, -0.02976144663989544, 0.03197969123721123, -0.003806831082329154, -0.022737005725502968, -0.003156954888254404, -0.0048466334119439125, -0.06733296811580658, -0.011039232835173607, 0.013321020640432835, 0.00011002767132595181, -0.0018918622517958283, 0.01722605526447296, 0.003275376744568348, 0.0034457887522876263, 0.013124613091349602, -0.03796433284878731, -0.0031598431523889303, 0.0018109887605533004, -0.0022644579876214266, -0.0096643827855587, 0.0004718824347946793, -0.022147785872220993, 0.0064814332872629166, 0.003500667167827487, -0.0013120281510055065, -0.014776743948459625, -0.008757445029914379, 0.02966902032494545, 0.022032251581549644, -0.00021012667275499552, -0.010380690917372704, 0.004225640092045069, 0.02051876112818718, -0.02026458829641342, -0.010317147709429264, -0.035330165177583694, -0.02256370708346367, 0.01075617503374815, -0.015677904710173607, -0.00691468408331275, -0.03385133668780327, 0.015469945035874844, -0.031101636588573456, 0.03394376114010811, 0.028837179765105247, -0.024215836077928543, 0.009577732533216476, -0.013944901525974274, 0.02041478268802166, 0.0016550184227526188, 3.53595896740444e-05, -0.006001968868076801, -0.03200279921293259, -0.02969212830066681, 0.028767859563231468, -0.04630585387349129]\n"
     ]
    }
   ],
   "source": [
    "# input to vector when retrieval\n",
    "from openai import OpenAI\n",
    "\n",
    "client = OpenAI(\n",
    "    api_key=\"BLOCKED\",\n",
    "    base_url=\"https://api.apiyi.com/v1\"\n",
    ")\n",
    "\n",
    "response = client.embeddings.create(\n",
    "    input=\"backup\",\n",
    "    model=\"text-embedding-3-small\"\n",
    ")\n",
    "\n",
    "print(response.data[0].embedding)"
   ]
  },
  {
   "cell_type": "code",
   "execution_count": 18,
   "metadata": {},
   "outputs": [
    {
     "name": "stderr",
     "output_type": "stream",
     "text": [
      "c:\\Users\\hiron\\AppData\\Local\\Programs\\Python\\Python312\\Lib\\site-packages\\langsmith\\client.py:323: LangSmithMissingAPIKeyWarning: API key must be provided when using hosted LangSmith API\n",
      "  warnings.warn(\n"
     ]
    },
    {
     "name": "stdout",
     "output_type": "stream",
     "text": [
      "matched：\n",
      " - **Backup Schedule**: Define daily, weekly, and monthly backup strategies.\n",
      "- **Recovery Plan**: Outline steps for restoring the system from backups in case of failure.\n",
      "\n",
      "1. [Introduction](#introduction)\n",
      "2. [System Architecture](#system-architecture)\n",
      "3. [Common Issues and Solutions](#common-issues-and-solutions)\n",
      "4. [Monitoring and Alerts](#monitoring-and-alerts)\n",
      "5. [Security Best Practices](#security-best-practices)\n",
      "6. [Backup and Recovery Procedures](#backup-and-recovery-procedures)\n",
      "7. [Performance Optimization](#performance-optimization)\n",
      "8. [Documentation and Resources](#documentation-and-resources)\n",
      "\n",
      "- **Data Encryption**: Use TLS for data in transit and AES for data at rest.\n",
      "- **Access Control**: Implement role-based access control (RBAC).\n",
      "- **Regular Audits**: Conduct security audits and vulnerability assessments.\n",
      "\n",
      "- **Load Testing**: Regularly perform load testing to identify bottlenecks.\n",
      "- **Database Optimization**: Use indexing and query optimization techniques.\n",
      "\n",
      "\n",
      "LLM Answer： Backup details include defining daily, weekly, and monthly backup strategies as part of a comprehensive backup schedule. Additionally, a recovery plan should outline the steps for restoring the system from backups in case of failure.\n"
     ]
    }
   ],
   "source": [
    "# db as rag retriever\n",
    "retriever = vectorstore.as_retriever()\n",
    "\n",
    "# RAG Prompt from LangChain\n",
    "# https://smith.langchain.com/hub/rlm/rag-prompt?organizationId=989ad331-949f-4bac-9694-660074a208a7\n",
    "\"\"\"\n",
    "You are an assistant for question-answering tasks. Use the following pieces of retrieved context to answer the question. If you don't know the answer, just say that you don't know. Use three sentences maximum and keep the answer concise.\n",
    "Question: {question} \n",
    "Context: {context} \n",
    "Answer:\n",
    "\"\"\"\n",
    "prompt = langchain_hub.pull(\"rlm/rag-prompt\")\n",
    "\n",
    "# print matched \n",
    "def format_docs(docs):\n",
    "    print(\"matched：\\n\", \"\\n\\n\".join(doc.page_content for doc in docs))\n",
    "    return \"\\n\\n\".join(doc.page_content for doc in docs)\n",
    "\n",
    "llm = ChatOpenAI(\n",
    "    model=\"gpt-4o-mini\",\n",
    "    openai_api_key=\"BLOCKED\",\n",
    "    openai_api_base=\"https://api.apiyi.com/v1\",\n",
    "    )\n",
    "\n",
    "rag_chain = (\n",
    "    {\"context\": retriever | format_docs, \"question\": RunnablePassthrough()}\n",
    "    | prompt\n",
    "    | llm\n",
    "    | StrOutputParser()\n",
    ")\n",
    "\n",
    "# input to vector & compare in db\n",
    "res = rag_chain.invoke(\"backup details\")\n",
    "print(\"\\n\\nLLM Answer：\", res)"
   ]
  },
  {
   "cell_type": "code",
   "execution_count": null,
   "metadata": {},
   "outputs": [],
   "source": []
  }
 ],
 "metadata": {
  "kernelspec": {
   "display_name": "Python 3",
   "language": "python",
   "name": "python3"
  },
  "language_info": {
   "codemirror_mode": {
    "name": "ipython",
    "version": 3
   },
   "file_extension": ".py",
   "mimetype": "text/x-python",
   "name": "python",
   "nbconvert_exporter": "python",
   "pygments_lexer": "ipython3",
   "version": "3.12.0"
  }
 },
 "nbformat": 4,
 "nbformat_minor": 2
}
