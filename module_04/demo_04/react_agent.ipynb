{
 "cells": [
  {
   "metadata": {},
   "cell_type": "markdown",
   "source": [
    "### ReAct Agent\n",
    "1. User: please help modify image of workload \"payment\" to nginx:v1.0.\n",
    "2. Assistant: call tools: get_deployment.\n",
    "3. Assistant: call tools: patch_deployment if step#2 is successful.\n",
    "4. Assistant: modify successfully."
   ],
   "id": "c384fed266f2d085"
  },
  {
   "cell_type": "code",
   "id": "initial_id",
   "metadata": {
    "collapsed": true,
    "ExecuteTime": {
     "end_time": "2024-09-27T10:20:42.618628Z",
     "start_time": "2024-09-27T10:20:41.156582Z"
    }
   },
   "source": "%pip install -qU langgraph langchain-openai",
   "outputs": [
    {
     "name": "stdout",
     "output_type": "stream",
     "text": [
      "Note: you may need to restart the kernel to use updated packages.\n"
     ]
    }
   ],
   "execution_count": 1
  },
  {
   "metadata": {
    "ExecuteTime": {
     "end_time": "2024-09-27T10:31:30.964740Z",
     "start_time": "2024-09-27T10:31:25.197408Z"
    }
   },
   "cell_type": "code",
   "source": [
    "import os\n",
    "from langchain_openai import ChatOpenAI\n",
    "from typing import Literal\n",
    "from langchain_core.tools import tool\n",
    "from IPython.display import Image, display\n",
    "from langgraph.prebuilt import ToolNode\n",
    "from langgraph.graph import StateGraph, MessagesState\n",
    "from getpass import getpass\n",
    "\n",
    "key=getpass()\n",
    "\n",
    "# ++ lang smith\n",
    "os.environ[\"LANGCHAIN_TRACING_V2\"] = \"true\"\n",
    "os.environ[\"LANGCHAIN_ENDPOINT\"] = \"https://api.smith.langchain.com\"\n",
    "os.environ[\"LANGCHAIN_API_KEY\"] = key\n",
    "os.environ[\"LANGCHAIN_PROJECT\"] = \"default\""
   ],
   "id": "9866e7e8a0745efa",
   "outputs": [],
   "execution_count": 6
  },
  {
   "metadata": {
    "ExecuteTime": {
     "end_time": "2024-09-27T10:35:51.519481Z",
     "start_time": "2024-09-27T10:35:51.513092Z"
    }
   },
   "cell_type": "code",
   "source": [
    "# tools\n",
    "@tool\n",
    "def get_deployment(deployment_name: str):\n",
    "    \"\"\"Use this to get deployment YAML.\"\"\"\n",
    "    print(\"get deployment: \", deployment_name)\n",
    "    # TODO: K8s API to create\n",
    "    return \"\"\"\n",
    "apiVersion: apps/v1\n",
    "kind: Deployment\n",
    "metadata:\n",
    "  name: payment\n",
    "spec:\n",
    "    selector:\n",
    "        matchLabels:\n",
    "            app: payment\n",
    "    template:\n",
    "        metadata:\n",
    "        labels:\n",
    "            app: payment\n",
    "        spec:\n",
    "        containers:\n",
    "        - name: payment\n",
    "            image: nginx\n",
    "            ports:\n",
    "            - containerPort: 80\n",
    "\"\"\"\n",
    "\n",
    "@tool\n",
    "def apply_deployment(patch_json: str):\n",
    "    \"\"\"Edit the deployment YAML.\"\"\"\n",
    "    print(\"apply deployment: \", patch_json)\n",
    "    # TODO: K8s API to patch\n",
    "    return \"deployment applied\"\n",
    "\n",
    "# build tool node by tools\n",
    "tools = [get_deployment, apply_deployment]\n",
    "tool_node = ToolNode(tools)"
   ],
   "id": "82379324e3255abe",
   "outputs": [],
   "execution_count": 9
  },
  {
   "metadata": {
    "ExecuteTime": {
     "end_time": "2024-09-27T10:31:50.770207Z",
     "start_time": "2024-09-27T10:31:43.029417Z"
    }
   },
   "cell_type": "code",
   "source": [
    "key=getpass()\n",
    "\n",
    "llm = ChatOpenAI(\n",
    "    model=\"gpt-4o-mini\",\n",
    "    api_key=key,\n",
    "    base_url=\"https://api.apiyi.com/v1\"\n",
    ").bind_tools(tools)\n",
    "\n",
    "def call_model(state: MessagesState):\n",
    "    messages = state[\"messages\"]\n",
    "    response = llm.invoke(messages)\n",
    "    return {\"messages\": [response]}"
   ],
   "id": "bbd6046ec8fc9fa7",
   "outputs": [],
   "execution_count": 8
  },
  {
   "metadata": {
    "ExecuteTime": {
     "end_time": "2024-09-27T10:39:54.715340Z",
     "start_time": "2024-09-27T10:39:53.255857Z"
    }
   },
   "cell_type": "code",
   "source": [
    "# helper to determine whether continue to reason\n",
    "# determined by the last msg from llm\n",
    "def should_continue(state: MessagesState) -> Literal[\"tools\", \"__end__\"]:\n",
    "    messages = state[\"messages\"]\n",
    "    last_message = messages[-1]\n",
    "    if last_message.tool_calls:\n",
    "        return \"tools\"\n",
    "    return \"__end__\"\n",
    "\n",
    "# graph, node, edge\n",
    "workflow = StateGraph(MessagesState)\n",
    "workflow.add_node(\"chat\", call_model)\n",
    "workflow.add_node(\"tools\", tool_node)\n",
    "workflow.add_edge(\"__start__\", \"chat\")\n",
    "# ++cond, if true then tools, else \"__end__\" \n",
    "workflow.add_conditional_edges(\n",
    "    \"chat\",\n",
    "    should_continue,\n",
    ")\n",
    "# loop from tools to chat\n",
    "workflow.add_edge(\"tools\", \"chat\")\n",
    "app = workflow.compile()\n",
    "\n",
    "# draw\n",
    "try:\n",
    "    display(Image(app.get_graph().draw_mermaid_png()))\n",
    "except Exception:\n",
    "    pass"
   ],
   "id": "8f77da3e84176e01",
   "outputs": [
    {
     "data": {
      "image/jpeg": "[encoded data removed]",
      "text/plain": [
       "<IPython.core.display.Image object>"
      ]
     },
     "metadata": {},
     "output_type": "display_data"
    }
   ],
   "execution_count": 10
  },
  {
   "metadata": {
    "ExecuteTime": {
     "end_time": "2024-09-27T10:42:35.311154Z",
     "start_time": "2024-09-27T10:42:31.011049Z"
    }
   },
   "cell_type": "code",
   "source": [
    "for chunk in app.stream(\n",
    "    {\"messages\": [(\"human\", \"please help modify image of workload \\\"payment\\\" to nginx:v1.0.\")]}, stream_mode=\"values\"\n",
    "):\n",
    "    chunk[\"messages\"][-1].pretty_print()"
   ],
   "id": "d8af66493ecb6bd3",
   "outputs": [
    {
     "name": "stdout",
     "output_type": "stream",
     "text": [
      "================================\u001B[1m Human Message \u001B[0m=================================\n",
      "\n",
      "please help modify image of workload \"payment\" to nginx:v1.0.\n",
      "==================================\u001B[1m Ai Message \u001B[0m==================================\n",
      "Tool Calls:\n",
      "  get_deployment (call_oF6k5hLXfLnADghg7cX5oE1h)\n",
      " Call ID: call_oF6k5hLXfLnADghg7cX5oE1h\n",
      "  Args:\n",
      "    deployment_name: payment\n",
      "get deployment:  payment\n",
      "=================================\u001B[1m Tool Message \u001B[0m=================================\n",
      "Name: get_deployment\n",
      "\n",
      "\n",
      "apiVersion: apps/v1\n",
      "kind: Deployment\n",
      "metadata:\n",
      "  name: payment\n",
      "spec:\n",
      "    selector:\n",
      "        matchLabels:\n",
      "            app: payment\n",
      "    template:\n",
      "        metadata:\n",
      "        labels:\n",
      "            app: payment\n",
      "        spec:\n",
      "        containers:\n",
      "        - name: payment\n",
      "            image: nginx\n",
      "            ports:\n",
      "            - containerPort: 80\n",
      "\n",
      "==================================\u001B[1m Ai Message \u001B[0m==================================\n",
      "Tool Calls:\n",
      "  apply_deployment (call_KEUmHh5mgWFj8pVEjM0KIZaW)\n",
      " Call ID: call_KEUmHh5mgWFj8pVEjM0KIZaW\n",
      "  Args:\n",
      "    patch_json: {\"spec\":{\"template\":{\"spec\":{\"containers\":[{\"name\":\"payment\",\"image\":\"nginx:v1.0\"}]}}}}\n",
      "apply deployment:  {\"spec\":{\"template\":{\"spec\":{\"containers\":[{\"name\":\"payment\",\"image\":\"nginx:v1.0\"}]}}}}\n",
      "=================================\u001B[1m Tool Message \u001B[0m=================================\n",
      "Name: apply_deployment\n",
      "\n",
      "deployment applied\n",
      "==================================\u001B[1m Ai Message \u001B[0m==================================\n",
      "\n",
      "The workload \"payment\" has been successfully modified to use the image `nginx:v1.0`. If you need any further assistance, feel free to ask!\n"
     ]
    }
   ],
   "execution_count": 11
  },
  {
   "metadata": {},
   "cell_type": "code",
   "outputs": [],
   "execution_count": null,
   "source": "",
   "id": "9f3c5505ee4d8688"
  }
 ],
 "metadata": {
  "kernelspec": {
   "display_name": "Python 3",
   "language": "python",
   "name": "python3"
  },
  "language_info": {
   "codemirror_mode": {
    "name": "ipython",
    "version": 2
   },
   "file_extension": ".py",
   "mimetype": "text/x-python",
   "name": "python",
   "nbconvert_exporter": "python",
   "pygments_lexer": "ipython2",
   "version": "2.7.6"
  }
 },
 "nbformat": 4,
 "nbformat_minor": 5
}
