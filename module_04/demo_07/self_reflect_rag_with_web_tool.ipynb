{
 "cells": [
  {
   "cell_type": "code",
   "id": "initial_id",
   "metadata": {
    "collapsed": true,
    "ExecuteTime": {
     "end_time": "2024-09-28T06:31:59.617199Z",
     "start_time": "2024-09-28T06:31:57.470083Z"
    }
   },
   "source": "%pip install -qU langchain_community tiktoken langchain-openai langchainhub chromadb langchain langgraph",
   "outputs": [
    {
     "name": "stdout",
     "output_type": "stream",
     "text": [
      "Note: you may need to restart the kernel to use updated packages.\n"
     ]
    }
   ],
   "execution_count": 1
  },
  {
   "metadata": {
    "ExecuteTime": {
     "end_time": "2024-09-28T06:45:40.095057Z",
     "start_time": "2024-09-28T06:45:39.501324Z"
    }
   },
   "cell_type": "code",
   "source": [
    "# langsmith\n",
    "import os\n",
    "from getpass import getpass\n",
    "\n",
    "key = getpass()\n",
    "\n",
    "os.environ[\"LANGCHAIN_TRACING_V2\"] = \"true\"\n",
    "os.environ[\"LANGCHAIN_ENDPOINT\"] = \"https://api.smith.langchain.com\"\n",
    "os.environ[\"LANGCHAIN_API_KEY\"] = key\n",
    "os.environ[\"LANGCHAIN_PROJECT\"] = \"default\""
   ],
   "id": "ff07fed9f4d1fade",
   "outputs": [],
   "execution_count": 25
  },
  {
   "metadata": {
    "ExecuteTime": {
     "end_time": "2024-09-28T06:45:43.810168Z",
     "start_time": "2024-09-28T06:45:43.314041Z"
    }
   },
   "cell_type": "code",
   "source": [
    "key=getpass()\n",
    "\n",
    "# tavily\n",
    "os.environ[\"TAVILY_API_KEY\"] = key"
   ],
   "id": "9cceeef6400812a0",
   "outputs": [],
   "execution_count": 26
  },
  {
   "metadata": {
    "ExecuteTime": {
     "end_time": "2024-09-28T06:45:51.896808Z",
     "start_time": "2024-09-28T06:45:47.784056Z"
    }
   },
   "cell_type": "code",
   "source": [
    "from langchain_community.vectorstores import Chroma\n",
    "from langchain_openai import OpenAIEmbeddings\n",
    "from langchain.text_splitter import MarkdownHeaderTextSplitter\n",
    "import uuid\n",
    "\n",
    "file_path = os.path.join('data', 'data.md')\n",
    "with open(file_path, 'r', encoding='utf-8') as file:\n",
    "    docs_string = file.read()\n",
    "\n",
    "# Split the document into chunks base on markdown headers.\n",
    "headers_to_split_on = [\n",
    "    (\"#\", \"Header 1\"),\n",
    "    (\"##\", \"Header 2\"),\n",
    "    (\"###\", \"Header 3\"),\n",
    "]\n",
    "text_splitter = MarkdownHeaderTextSplitter(headers_to_split_on=headers_to_split_on)\n",
    "doc_splits = text_splitter.split_text(docs_string)\n",
    "\n",
    "# add to vector store\n",
    "random_directory = \"./\" + str(uuid.uuid4())\n",
    "\n",
    "key = getpass()\n",
    "\n",
    "embedding = OpenAIEmbeddings(\n",
    "    model=\"text-embedding-3-small\", \n",
    "    openai_api_key=key,\n",
    "    openai_api_base=\"https://api.apiyi.com/v1\")\n",
    "\n",
    "vectorstore = Chroma.from_documents(documents=doc_splits, embedding=embedding, persist_directory=random_directory, collection_name=\"rag-chroma\",)\n",
    "retriever = vectorstore.as_retriever()"
   ],
   "id": "377afd66e0cd0387",
   "outputs": [],
   "execution_count": 27
  },
  {
   "metadata": {},
   "cell_type": "markdown",
   "source": "### Retrieve + Grade",
   "id": "8c35bb4fd1d33e3e"
  },
  {
   "metadata": {
    "ExecuteTime": {
     "end_time": "2024-09-28T06:46:00.844605Z",
     "start_time": "2024-09-28T06:45:55.011288Z"
    }
   },
   "cell_type": "code",
   "source": [
    "### determine similarity or relevant btw doc & user query\n",
    "from langchain_core.prompts import ChatPromptTemplate\n",
    "from pydantic import BaseModel, Field\n",
    "from langchain_openai import ChatOpenAI\n",
    "\n",
    "# Data model\n",
    "class GradeDocuments(BaseModel):\n",
    "    \"\"\"Binary score for relevance check on retrieved documents.\"\"\"\n",
    "\n",
    "    binary_score: str = Field(description=\"Documents are relevant to the question, 'yes' or 'no'\")\n",
    "    \n",
    "llm = ChatOpenAI(\n",
    "        model=\"gpt-4o-mini\",\n",
    "        api_key=key,\n",
    "        base_url=\"https://api.apiyi.com/v1\",\n",
    "        temperature=0)\n",
    "\n",
    "# structured output\n",
    "structured_llm_grader = llm.with_structured_output(GradeDocuments)  \n",
    "\n",
    "# build prompt template from msg\n",
    "system = \"\"\"\n",
    "You are an evaluator responsible for assessing the relevance of retrieved documents to user queries. \\n\n",
    "The testing does not need to be very strict. The goal is to filter out irrelevant retrievals. \\n\n",
    "If the document contains keywords or semantic meanings related to the user query, rate it as relevant. \\n\n",
    "Provide a binary score of \"yes\" or \"no\" to indicate whether the document is relevant to the query.\n",
    "\"\"\"\n",
    "grade_prompt = ChatPromptTemplate.from_messages(\n",
    "    [\n",
    "        (\"system\", system),\n",
    "        (\"human\", \"Retrieved document: \\n\\n {document} \\n\\n User question: {question}\"),\n",
    "    ]\n",
    ")\n",
    "\n",
    "# chain prompt to llm\n",
    "retrieval_grader = grade_prompt | structured_llm_grader\n",
    "# relevant query\n",
    "question = \"who is in charge of payment_backend?\"\n",
    "# irrelevant query\n",
    "#question = \"Today's weather in Shanghai\"\n",
    "\n",
    "# retrieve\n",
    "docs = retriever.invoke(question)\n",
    "\n",
    "# grade for each doc\n",
    "for doc in docs:\n",
    "    print(\"doc: \\n\", doc.page_content, \"\\n\")\n",
    "    print(retrieval_grader.invoke({\"question\": question, \"document\": doc.page_content}))\n",
    "    print(\"\\n\")"
   ],
   "id": "20b3cecc2e82d31c",
   "outputs": [
    {
     "name": "stdout",
     "output_type": "stream",
     "text": [
      "doc: \n",
      " Microservice Managers:  \n",
      "- **payment_frontend**: Alice, Contact: 123\n",
      "- **payment_gateway**: Bob, Contact: 456\n",
      "- **payment_backend**: Bob, Contact: 789\n",
      "- **payment_callback**: Cindy, Contact: 101112  \n",
      "If you need any further assistance, feel free to ask! \n",
      "\n",
      "binary_score='yes'\n",
      "\n",
      "\n",
      "doc: \n",
      " - **Problem Description**: The processing time for user payment requests exceeds the normal range.\n",
      "- **Possible Causes**:\n",
      "- Insufficient system resources\n",
      "- Inefficient database queries\n",
      "- Slow response from external services\n",
      "- **Solutions**:\n",
      "- Increase system resources such as CPU and memory.\n",
      "- Optimize database queries by using indexes and reducing complex queries.\n",
      "- Communicate with external service providers to optimize interface performance. \n",
      "\n",
      "binary_score='no'\n",
      "\n",
      "\n",
      "doc: \n",
      " - **Problem Description**: The payment system is completely inaccessible or the service is interrupted.\n",
      "- **Possible Causes**:\n",
      "- Hardware failure of the host\n",
      "- System software crash\n",
      "- Network device failure\n",
      "- **Solutions**:\n",
      "- Quickly switch to a backup server.\n",
      "- Check system logs to pinpoint the cause of the problem.\n",
      "- Contact hardware suppliers for troubleshooting and repair. \n",
      "\n",
      "binary_score='no'\n",
      "\n",
      "\n",
      "doc: \n",
      " - **Problem Description**: The transaction did not complete successfully after the user initiated the payment.\n",
      "- **Possible Causes**:\n",
      "- Network delay or interruption\n",
      "- Payment gateway service anomaly\n",
      "- **Solutions**:\n",
      "- Check the network connection to ensure smooth access to payment services.\n",
      "- Check the status of the payment gateway service, restart it, or contact the service provider. \n",
      "\n",
      "binary_score='no'\n",
      "\n",
      "\n"
     ]
    }
   ],
   "execution_count": 28
  },
  {
   "metadata": {},
   "cell_type": "markdown",
   "source": "### Generate",
   "id": "1d31c4034c92c509"
  },
  {
   "metadata": {
    "ExecuteTime": {
     "end_time": "2024-09-28T06:46:07.400632Z",
     "start_time": "2024-09-28T06:46:04.203413Z"
    }
   },
   "cell_type": "code",
   "source": [
    "from langchain import hub\n",
    "from langchain_core.output_parsers import StrOutputParser\n",
    "\n",
    "# rag prompt\n",
    "prompt = hub.pull(\"rlm/rag-prompt\")\n",
    "\n",
    "# llm\n",
    "llm = ChatOpenAI(\n",
    "    model_name=\"gpt-4o-mini\",\n",
    "    api_key=key,\n",
    "    base_url=\"https://api.apiyi.com/v1\",\n",
    "    temperature=0)\n",
    "\n",
    "# post-processing\n",
    "def format_docs(docs):\n",
    "    return \"\\n\\n\".join(doc.page_content for doc in docs)\n",
    "\n",
    "# chain\n",
    "rag_chain = prompt | llm | StrOutputParser()\n",
    "\n",
    "# Run\n",
    "generation = rag_chain.invoke({\"context\": docs, \"question\": question})\n",
    "print(generation)"
   ],
   "id": "7e1e576e1588fb45",
   "outputs": [
    {
     "name": "stdout",
     "output_type": "stream",
     "text": [
      "Bob is in charge of the payment_backend.\n"
     ]
    }
   ],
   "execution_count": 29
  },
  {
   "metadata": {},
   "cell_type": "markdown",
   "source": "### Hallucination?",
   "id": "1f4eded6b7ee6ca8"
  },
  {
   "metadata": {
    "ExecuteTime": {
     "end_time": "2024-09-28T06:46:11.890965Z",
     "start_time": "2024-09-28T06:46:09.481008Z"
    }
   },
   "cell_type": "code",
   "source": [
    "# Data model\n",
    "class GradeHallucinations(BaseModel):\n",
    "    \"\"\"Binary score for hallucination present in generation answer.\"\"\"\n",
    "\n",
    "    binary_score: str = Field(description=\"Answer is grounded in the facts, 'yes' or 'no'\")\n",
    "\n",
    "# LLM with function call\n",
    "llm = ChatOpenAI(\n",
    "    model_name=\"gpt-4o-mini\",\n",
    "    api_key=key,\n",
    "    base_url=\"https://api.apiyi.com/v1\",\n",
    "    temperature=0)\n",
    "structured_llm_grader = llm.with_structured_output(GradeHallucinations)\n",
    "\n",
    "# build prompt template from msg\n",
    "system = \"\"\"\n",
    "You are an evaluator assessing whether the LLM generation is based on or supported by a set of retrieved facts. \\n\n",
    "Provide a binary score of \"yes\" or \"no.\" \\n\n",
    "\"Yes\" indicates that the answer is based on or supported by a set of facts.\n",
    "\"\"\"\n",
    "hallucination_prompt = ChatPromptTemplate.from_messages(\n",
    "    [\n",
    "        (\"system\", system),\n",
    "        (\"human\", \"Set of facts: \\n\\n {documents} \\n\\n LLM generation: {generation}\"),\n",
    "    ]\n",
    ")\n",
    "\n",
    "# chain\n",
    "hallucination_grader = hallucination_prompt | structured_llm_grader\n",
    "hallucination_grader.invoke({\"documents\": docs, \"generation\": generation})"
   ],
   "id": "532cb73ee0170697",
   "outputs": [
    {
     "data": {
      "text/plain": [
       "GradeHallucinations(binary_score='yes')"
      ]
     },
     "execution_count": 30,
     "metadata": {},
     "output_type": "execute_result"
    }
   ],
   "execution_count": 30
  },
  {
   "metadata": {},
   "cell_type": "markdown",
   "source": "### Answer the question?",
   "id": "71f4cb88019a93fb"
  },
  {
   "metadata": {
    "ExecuteTime": {
     "end_time": "2024-09-28T06:46:15.890124Z",
     "start_time": "2024-09-28T06:46:13.507959Z"
    }
   },
   "cell_type": "code",
   "source": [
    "# Data model\n",
    "class GradeAnswer(BaseModel):\n",
    "    \"\"\"Binary score to assess answer addresses question.\"\"\"\n",
    "\n",
    "    binary_score: str = Field(description=\"Answer addresses the question, 'yes' or 'no'\")\n",
    "\n",
    "\n",
    "# LLM with function call\n",
    "llm = ChatOpenAI(\n",
    "    model_name=\"gpt-4o-mini\",\n",
    "    api_key=key,\n",
    "    base_url=\"https://api.apiyi.com/v1\",\n",
    "    temperature=0)\n",
    "structured_llm_grader = llm.with_structured_output(GradeAnswer)\n",
    "\n",
    "# Prompt\n",
    "system = \"\"\"\n",
    "You are an evaluator assessing whether the answer addresses a specific question. \\n\n",
    "Provide a binary score of \"yes\" or \"no.\" \\n\n",
    "\"Yes\" indicates that the answer resolves the question.\n",
    "\"\"\"\n",
    "answer_prompt = ChatPromptTemplate.from_messages(\n",
    "    [\n",
    "        (\"system\", system),\n",
    "        (\"human\", \"User question: \\n\\n {question} \\n\\n LLM generation: {generation}\"),\n",
    "    ]\n",
    ")\n",
    "\n",
    "answer_grader = answer_prompt | structured_llm_grader\n",
    "answer_grader.invoke({\"question\": question, \"generation\": generation})"
   ],
   "id": "47fc818d97f8d91e",
   "outputs": [
    {
     "data": {
      "text/plain": [
       "GradeAnswer(binary_score='yes')"
      ]
     },
     "execution_count": 31,
     "metadata": {},
     "output_type": "execute_result"
    }
   ],
   "execution_count": 31
  },
  {
   "metadata": {},
   "cell_type": "markdown",
   "source": "### Rewrite",
   "id": "7bf3ffc5a95f7c59"
  },
  {
   "metadata": {
    "ExecuteTime": {
     "end_time": "2024-09-28T06:46:20.056389Z",
     "start_time": "2024-09-28T06:46:17.735968Z"
    }
   },
   "cell_type": "code",
   "source": [
    "# llm\n",
    "llm = ChatOpenAI(\n",
    "    model_name=\"gpt-4o-mini\",\n",
    "    api_key=key,\n",
    "    base_url=\"https://api.apiyi.com/v1\",\n",
    "    temperature=0)\n",
    "\n",
    "# prompt\n",
    "system = \"\"\"\n",
    "You have a question rewriter that can transform the input question into a better version optimized for vector store retrieval. \\n\n",
    "Review the input and try to infer the underlying semantic intent/meaning, responding in the user's language.\n",
    "\"\"\"\n",
    "re_write_prompt = ChatPromptTemplate.from_messages(\n",
    "    [\n",
    "        (\"system\", system),\n",
    "        (\n",
    "            \"human\",\n",
    "            \"Here is the initial question: \\n\\n {question} \\n Formulate an improved question.\",\n",
    "        ),\n",
    "    ]\n",
    ")\n",
    "\n",
    "question_rewriter = re_write_prompt | llm | StrOutputParser()\n",
    "question_rewriter.invoke({\"question\": question})"
   ],
   "id": "6d86d48a074ebee2",
   "outputs": [
    {
     "data": {
      "text/plain": [
       "'Who is responsible for managing the payment backend?'"
      ]
     },
     "execution_count": 32,
     "metadata": {},
     "output_type": "execute_result"
    }
   ],
   "execution_count": 32
  },
  {
   "metadata": {},
   "cell_type": "markdown",
   "source": "### Node",
   "id": "8eb0caa852d752e0"
  },
  {
   "metadata": {
    "ExecuteTime": {
     "end_time": "2024-09-28T06:46:22.329973Z",
     "start_time": "2024-09-28T06:46:22.326749Z"
    }
   },
   "cell_type": "code",
   "source": [
    "from typing import List\n",
    "from typing_extensions import TypedDict\n",
    "\n",
    "class GraphState(TypedDict):\n",
    "    \"\"\"\n",
    "    Represents the state of our graph.\n",
    "\n",
    "    Attributes:\n",
    "        question: question\n",
    "        generation: LLM generation\n",
    "        documents: list of documents\n",
    "    \"\"\"\n",
    "\n",
    "    question: str\n",
    "    generation: str\n",
    "    documents: List[str]"
   ],
   "id": "de7e95b0d64ff62d",
   "outputs": [],
   "execution_count": 33
  },
  {
   "metadata": {
    "ExecuteTime": {
     "end_time": "2024-09-28T06:46:22.870043Z",
     "start_time": "2024-09-28T06:46:22.864984Z"
    }
   },
   "cell_type": "code",
   "source": [
    "# nodes\n",
    "\n",
    "def retrieve(state):\n",
    "    \"\"\"\n",
    "    Retrieve documents\n",
    "\n",
    "    Args:\n",
    "        state (dict): The current graph state\n",
    "\n",
    "    Returns:\n",
    "        state (dict): New key added to state, documents, that contains retrieved documents\n",
    "    \"\"\"\n",
    "    print(\"---RETRIEVE---\")\n",
    "    question = state[\"question\"]\n",
    "\n",
    "    # Retrieval\n",
    "    documents = retriever.get_relevant_documents(question)\n",
    "    return {\"documents\": documents, \"question\": question}\n",
    "\n",
    "def generate(state):\n",
    "    \"\"\"\n",
    "    Generate answer\n",
    "\n",
    "    Args:\n",
    "        state (dict): The current graph state\n",
    "\n",
    "    Returns:\n",
    "        state (dict): New key added to state, generation, that contains LLM generation\n",
    "    \"\"\"\n",
    "    print(\"---GENERATE---\")\n",
    "    question = state[\"question\"]\n",
    "    documents = state[\"documents\"]\n",
    "\n",
    "    # RAG generation\n",
    "    generation = rag_chain.invoke({\"context\": documents, \"question\": question})\n",
    "    return {\"documents\": documents, \"question\": question, \"generation\": generation}\n",
    "\n",
    "def grade_documents(state):\n",
    "    \"\"\"\n",
    "    Determines whether the retrieved documents are relevant to the question.\n",
    "\n",
    "    Args:\n",
    "        state (dict): The current graph state\n",
    "\n",
    "    Returns:\n",
    "        state (dict): Updates documents key with only filtered relevant documents\n",
    "    \"\"\"\n",
    "\n",
    "    print(\"----GRADE----\\n\")\n",
    "    question = state[\"question\"]\n",
    "    documents = state[\"documents\"]\n",
    "\n",
    "    # Score each doc\n",
    "    filtered_docs = []\n",
    "    for d in documents:\n",
    "        score = retrieval_grader.invoke(\n",
    "            {\"question\": question, \"document\": d.page_content}\n",
    "        )\n",
    "        grade = score.binary_score\n",
    "        if grade == \"yes\":\n",
    "            print(\"Doc is relevant to question.\\n\")\n",
    "            filtered_docs.append(d)\n",
    "        else:\n",
    "            print(\"Doc is irrelevant to question.\\n\")\n",
    "            continue\n",
    "    return {\"documents\": filtered_docs, \"question\": question}\n",
    "\n",
    "def rewrite_query(state):\n",
    "    \"\"\"\n",
    "    Transform the query to produce a better question.\n",
    "\n",
    "    Args:\n",
    "        state (dict): The current graph state\n",
    "\n",
    "    Returns:\n",
    "        state (dict): Updates question key with a re-phrased question\n",
    "    \"\"\"\n",
    "\n",
    "    print(\"----REWRITE----\\n\")\n",
    "    question = state[\"question\"]\n",
    "    documents = state[\"documents\"]\n",
    "\n",
    "    # Re-write question\n",
    "    better_question = question_rewriter.invoke({\"question\": question})\n",
    "    print(\"Question after re-write: \", better_question)\n",
    "    return {\"documents\": documents, \"question\": better_question}\n",
    "\n",
    "\n",
    "### Edges\n",
    "def decide_to_generate(state):\n",
    "    \"\"\"\n",
    "    Determines whether to generate an answer, or re-generate a question.\n",
    "\n",
    "    Args:\n",
    "        state (dict): The current graph state\n",
    "\n",
    "    Returns:\n",
    "        str: Binary decision for next node to call\n",
    "    \"\"\"\n",
    "\n",
    "    print(\"----GENERATE----\\n\")\n",
    "    filtered_documents = state[\"documents\"]\n",
    "\n",
    "    if not filtered_documents:\n",
    "        # All documents have been filtered check_relevance\n",
    "        # We will re-generate a new query\n",
    "        print(\"All docs are irrelevant，re-write question\\n\")\n",
    "        return \"transform_query\"\n",
    "    else:\n",
    "        # We have relevant documents, so generate answer\n",
    "        print(\"Doc is relevant to question, start to generate answer.\\n\")\n",
    "        return \"generate\"\n",
    "\n",
    "\n",
    "# has hallucination?\n",
    "def grade_generation_v_documents_and_question(state):\n",
    "    \"\"\"\n",
    "    Determines whether the generation is grounded in the document and answers question.\n",
    "\n",
    "    Args:\n",
    "        state (dict): The current graph state\n",
    "\n",
    "    Returns:\n",
    "        str: Decision for next node to call\n",
    "    \"\"\"\n",
    "\n",
    "    print(\"----HALLUCINATION?----\\n\")\n",
    "    question = state[\"question\"]\n",
    "    documents = state[\"documents\"]\n",
    "    generation = state[\"generation\"]\n",
    "\n",
    "    score = hallucination_grader.invoke(\n",
    "        {\"documents\": documents, \"generation\": generation}\n",
    "    )\n",
    "    grade = score.binary_score\n",
    "\n",
    "    # Check hallucination\n",
    "    if grade == \"yes\":\n",
    "        print(\"No hallucination.\\n\")\n",
    "        # 评估LLM 的回答是否解决了用户问题\n",
    "        score = answer_grader.invoke({\"question\": question, \"generation\": generation})\n",
    "        grade = score.binary_score\n",
    "        if grade == \"yes\":\n",
    "            print(\"Question is solved.\\n\")\n",
    "            return \"useful\"\n",
    "        else:\n",
    "            print(\"Question is not solved.\\n\")\n",
    "            return \"not useful\"\n",
    "    else:\n",
    "        print(\"Has hallucination, re-generate……\\n\")\n",
    "        return \"not supported\""
   ],
   "id": "c122235c5dc3aced",
   "outputs": [],
   "execution_count": 34
  },
  {
   "metadata": {
    "ExecuteTime": {
     "end_time": "2024-09-28T06:46:25.148349Z",
     "start_time": "2024-09-28T06:46:25.143980Z"
    }
   },
   "cell_type": "code",
   "source": [
    "from typing import Literal\n",
    "\n",
    "class RouteQuery(BaseModel):\n",
    "    \"\"\"Route a user query to the most relevant datasource.\"\"\"\n",
    "\n",
    "    datasource: Literal[\"vectorstore\", \"web_search\"] = Field(..., description=\"Given a user question choose to route it to web search or a vectorstore.\",)\n",
    "    \n",
    "def route_question(state):\n",
    "    \"\"\"\n",
    "    Route question to web search or RAG.\n",
    "\n",
    "    Args:\n",
    "        state (dict): The current graph state\n",
    "\n",
    "    Returns:\n",
    "        str: Next node to call\n",
    "    \"\"\"\n",
    "\n",
    "    llm = ChatOpenAI(\n",
    "        model_name=\"gpt-4o-mini\",\n",
    "        api_key=key,\n",
    "        base_url=\"https://api.apiyi.com/v1\",\n",
    "        temperature=0)\n",
    "    structured_llm_router = llm.with_structured_output(RouteQuery)\n",
    "\n",
    "    # Prompt\n",
    "    system = \"\"\"\n",
    "    You are an expert in routing user questions to either vectorstore or web_search. \\n\n",
    "    Use vectorstore to answer questions related to operations, tickets, microservices, gateways, workloads, logs, and similar topics. \\n\n",
    "    For all other inquiries, use web_search.\n",
    "    \"\"\"\n",
    "    route_prompt = ChatPromptTemplate.from_messages(\n",
    "        [\n",
    "            (\"system\", system),\n",
    "            (\"human\", \"{question}\"),\n",
    "        ]\n",
    "    )\n",
    "\n",
    "    question_router = route_prompt | structured_llm_router\n",
    "    print(\"---ROUTE---\")\n",
    "    question = state[\"question\"]\n",
    "    source = question_router.invoke({\"question\": question})\n",
    "    if source.datasource == \"web_search\":\n",
    "        print(\"---ROUTE TO WEB-SEARCH---\")\n",
    "        return \"web_search\"\n",
    "    elif source.datasource == \"vectorstore\":\n",
    "        print(\"---ROUTE TO VECTORSTORE---\")\n",
    "        return \"vectorstore\""
   ],
   "id": "2d4171e7a645c638",
   "outputs": [],
   "execution_count": 35
  },
  {
   "metadata": {
    "ExecuteTime": {
     "end_time": "2024-09-28T06:46:32.343929Z",
     "start_time": "2024-09-28T06:46:32.340806Z"
    }
   },
   "cell_type": "code",
   "source": [
    "from langchain_community.tools.tavily_search import TavilySearchResults\n",
    "from langchain.schema import Document\n",
    "\n",
    "web_search_tool = TavilySearchResults(k=3)\n",
    "\n",
    "def web_search(state):\n",
    "    \"\"\"\n",
    "    Web search based on the re-phrased question.\n",
    "\n",
    "    Args:\n",
    "        state (dict): The current graph state\n",
    "\n",
    "    Returns:\n",
    "        state (dict): Updates documents key with appended web results\n",
    "    \"\"\"\n",
    "\n",
    "    print(\"---WEB-SEARCH---\")\n",
    "    question = state[\"question\"]\n",
    "\n",
    "    # Web search\n",
    "    docs = web_search_tool.invoke({\"query\": question})\n",
    "    web_results = \"\\n\".join([d[\"content\"] for d in docs])\n",
    "    web_results = Document(page_content=web_results)\n",
    "\n",
    "    return {\"documents\": web_results, \"question\": question}"
   ],
   "id": "5024fe73d45ee5b",
   "outputs": [],
   "execution_count": 37
  },
  {
   "metadata": {},
   "cell_type": "markdown",
   "source": "### Graph",
   "id": "47fe7cdff88532ed"
  },
  {
   "metadata": {
    "ExecuteTime": {
     "end_time": "2024-09-28T06:46:37.067526Z",
     "start_time": "2024-09-28T06:46:35.467506Z"
    }
   },
   "cell_type": "code",
   "source": [
    "from langgraph.graph import END, StateGraph, START\n",
    "from IPython.display import Image, display\n",
    "\n",
    "workflow = StateGraph(GraphState)\n",
    "\n",
    "# ++\n",
    "workflow.add_node(\"web_search\", web_search)  # web search\n",
    "workflow.add_node(\"retrieve\", retrieve) \n",
    "workflow.add_node(\"grade_documents\", grade_documents)\n",
    "workflow.add_node(\"generate\", generate)\n",
    "workflow.add_node(\"rewrite_query\", rewrite_query)\n",
    "\n",
    "# DCG\n",
    "workflow.add_conditional_edges(\n",
    "    START,\n",
    "    route_question,\n",
    "    {\n",
    "        \"web_search\": \"web_search\",\n",
    "        \"vectorstore\": \"retrieve\",\n",
    "    },\n",
    ")\n",
    "workflow.add_edge(\"web_search\", \"generate\")\n",
    "workflow.add_edge(\"retrieve\", \"grade_documents\")\n",
    "# Add conditional edges to grade_documents to determine the result of the decide_to_generate function.\n",
    "# If the function returns \"transform_query,\" transition to the transform_query node.\n",
    "# If the function returns \"generate,\" transition to the generate node.\n",
    "workflow.add_conditional_edges(\n",
    "    \"grade_documents\",\n",
    "    # cond\n",
    "    decide_to_generate,\n",
    "    {\n",
    "        \"rewrite_query\": \"rewrite_query\",\n",
    "        \"generate\": \"generate\",\n",
    "    },\n",
    ")\n",
    "workflow.add_edge(\"rewrite_query\", \"retrieve\")\n",
    "# Add conditional edges to generate to determine the result of the grade_generation_v_documents_and_question function.\n",
    "# If the function returns \"useful,\" transition to the END node.\n",
    "# If the function returns \"not useful,\" transition to the transform_query node.\n",
    "# If the function returns \"not supported,\" transition to the generate node.\n",
    "workflow.add_conditional_edges(\n",
    "    \"generate\",\n",
    "    # cond\n",
    "    grade_generation_v_documents_and_question,\n",
    "    {\n",
    "        \"not supported\": \"generate\",\n",
    "        \"useful\": END,\n",
    "        \"not useful\": \"rewrite_query\",\n",
    "    },\n",
    ")\n",
    "# Compile\n",
    "app = workflow.compile()\n",
    "\n",
    "try:\n",
    "    display(Image(app.get_graph().draw_mermaid_png()))\n",
    "except Exception:\n",
    "    pass"
   ],
   "id": "aa0e20e71983cd77",
   "outputs": [
    {
     "data": {
      "image/jpeg": "[encoded data removed]",
      "text/plain": [
       "<IPython.core.display.Image object>"
      ]
     },
     "metadata": {},
     "output_type": "display_data"
    }
   ],
   "execution_count": 38
  },
  {
   "metadata": {
    "ExecuteTime": {
     "end_time": "2024-09-28T06:46:52.325484Z",
     "start_time": "2024-09-28T06:46:39.500440Z"
    }
   },
   "cell_type": "code",
   "source": [
    "from pprint import pprint\n",
    "\n",
    "# inputs = {\"question\": \"Who is charge of most payment services?\"}\n",
    "inputs = {\"question\": \"Today's weather in Shanghai.\"}\n",
    "\n",
    "for output in app.stream(inputs):\n",
    "    for key, value in output.items():\n",
    "        # Node\n",
    "        pprint(f\"Node '{key}':\")\n",
    "        # Optional: print full state at each node\n",
    "        # pprint.pprint(value[\"keys\"], indent=2, width=80, depth=None)\n",
    "    pprint(\"\\n---\\n\")\n",
    "\n",
    "# Final generation\n",
    "pprint(value[\"generation\"])"
   ],
   "id": "505ea5efad3fa14a",
   "outputs": [
    {
     "name": "stdout",
     "output_type": "stream",
     "text": [
      "---ROUTE---\n",
      "---ROUTE TO WEB-SEARCH---\n",
      "---WEB-SEARCH---\n",
      "\"Node 'web_search':\"\n",
      "'\\n---\\n'\n",
      "---GENERATE---\n",
      "----HALLUCINATION?----\n",
      "\n",
      "No hallucination.\n",
      "\n",
      "Question is solved.\n",
      "\n",
      "\"Node 'generate':\"\n",
      "'\\n---\\n'\n",
      "(\"Today's weather in Shanghai is sunny with a temperature of 30°C (86°F). The \"\n",
      " 'wind is coming from the ENE at 10.1 mph, and humidity is at 52%. There is no '\n",
      " 'precipitation expected.')\n"
     ]
    }
   ],
   "execution_count": 39
  },
  {
   "metadata": {},
   "cell_type": "code",
   "outputs": [],
   "execution_count": null,
   "source": "",
   "id": "c4e8ad30c0d650c3"
  }
 ],
 "metadata": {
  "kernelspec": {
   "display_name": "Python 3",
   "language": "python",
   "name": "python3"
  },
  "language_info": {
   "codemirror_mode": {
    "name": "ipython",
    "version": 2
   },
   "file_extension": ".py",
   "mimetype": "text/x-python",
   "name": "python",
   "nbconvert_exporter": "python",
   "pygments_lexer": "ipython2",
   "version": "2.7.6"
  }
 },
 "nbformat": 4,
 "nbformat_minor": 5
}
